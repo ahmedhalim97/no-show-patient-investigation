{
 "cells": [
  {
   "cell_type": "markdown",
   "metadata": {},
   "source": [
    "# Project: Investigate a Dataset (Stydy on no show up medical appointement¶\n",
    "\n",
    "## Table of Contents\n",
    "<ul>\n",
    "<li><a href=\"#intro\">Introduction</a></li>\n",
    "<li><a href=\"#wrangling\">Data Wrangling</a></li>\n",
    "<li><a href=\"#eda\">Exploratory Data Analysis</a></li>\n",
    "<li><a href=\"#conclusions\">Conclusions</a></li>\n",
    "</ul>"
   ]
  },
  {
   "cell_type": "markdown",
   "metadata": {},
   "source": [
    "<a id='intro'></a>\n",
    "## Introduction"
   ]
  },
  {
   "cell_type": "markdown",
   "metadata": {},
   "source": [
    "The dataset i've selected for analysis contain number of columns that sates the people who attended and not attended the medical appointement \n",
    ">**PatientId** :ID of the patient (Not useful in the analysis)\n",
    ">\n",
    ">**AppintementId**: ID of the appintement (Not Useful in the analysis)\n",
    ">\n",
    ">**Gender**: State whether the patinet a male or female expressed as 'M' or 'F' in 'str'\n",
    ">\n",
    ">**scheduldedday**: tells us on what day the patient set up their appointment in 'int'\n",
    ">\n",
    ">**appointementday**: State the date and time of the appointement day in 'int'\n",
    ">\n",
    ">**age**: Show the age of the patient in 'int'\n",
    ">\n",
    ">**neghbourhood**:  indicates the location of the hospital in 'str'\n",
    ">\n",
    ">**scholarship**: indicates whether or not the patient is enrolled in Brasilian welfare program Bolsa Família if yes = 1 , no = 0\n",
    ">\n",
    ">**hipertension**: Explain whether the pateint suffer from a hipertension or not if yes = 1 , no = 0\n",
    ">\n",
    ">**diabetes**: Explain whether the pateint suffer from a diabetes or not if yes = 1 , no = 0\n",
    ">\n",
    ">**alcoholism**: Show whether the patient is addicted to alcohol if yes =1 , no =0\n",
    ">\n",
    ">**handcap**: show whethter the patient is handcap or not\n",
    ">\n",
    ">**sms_received**: state if the patient recieved a sms message or not\n",
    ">\n",
    ">**no_show**: state whether the patient went to appointment or not if show = 'No', if not show= 'Yes'"
   ]
  },
  {
   "cell_type": "code",
   "execution_count": 46,
   "metadata": {},
   "outputs": [],
   "source": [
    "# Importing the libararies that we will need for the wrangling, analysis and visualising data\n",
    "import pandas as pd\n",
    "import numpy as np\n",
    "import matplotlib.pyplot as plt\n",
    "import seaborn as sns\n",
    "%matplotlib inline"
   ]
  },
  {
   "cell_type": "markdown",
   "metadata": {},
   "source": [
    "## Q 1\n",
    "### Does the gender affect the show up ?\n",
    "## Q2\n",
    "### Does the scholarship affect patient to show up ?\n",
    "## Q3\n",
    "### Does the alcoholism affect patient to show up ?\n",
    "## Q4\n",
    "### Does the hipertension affect patient to show up ?\n",
    "## Q5\n",
    "### Does the diabetes affect patient to show up ?\n",
    "## Q6\n",
    "### Does the handcap affect patient to show up ?\n",
    "## Q7\n",
    "### Does whether sms_recieved affect patient to show up ?\n",
    "## Q8\n",
    "### Does the delay between the scheduledday and appointmentday affect patient to show up ?\n",
    "## Q9\n",
    "### Is there a neighbourhood where more patient show up ?\n",
    "## Q10\n",
    "### Compare between gender with age mean and patients that showd or not\n",
    "## Q11\n",
    "###  Compare between gender with (handcap,alcoholism, and diabetes) mean and patients that showd or not"
   ]
  },
  {
   "cell_type": "markdown",
   "metadata": {},
   "source": [
    "<a id='wrangling'></a>\n",
    "## Data Wrangling\n"
   ]
  },
  {
   "cell_type": "code",
   "execution_count": 47,
   "metadata": {},
   "outputs": [
    {
     "data": {
      "text/html": [
       "<div>\n",
       "<style scoped>\n",
       "    .dataframe tbody tr th:only-of-type {\n",
       "        vertical-align: middle;\n",
       "    }\n",
       "\n",
       "    .dataframe tbody tr th {\n",
       "        vertical-align: top;\n",
       "    }\n",
       "\n",
       "    .dataframe thead th {\n",
       "        text-align: right;\n",
       "    }\n",
       "</style>\n",
       "<table border=\"1\" class=\"dataframe\">\n",
       "  <thead>\n",
       "    <tr style=\"text-align: right;\">\n",
       "      <th></th>\n",
       "      <th>PatientId</th>\n",
       "      <th>AppointmentID</th>\n",
       "      <th>Gender</th>\n",
       "      <th>ScheduledDay</th>\n",
       "      <th>AppointmentDay</th>\n",
       "      <th>Age</th>\n",
       "      <th>Neighbourhood</th>\n",
       "      <th>Scholarship</th>\n",
       "      <th>Hipertension</th>\n",
       "      <th>Diabetes</th>\n",
       "      <th>Alcoholism</th>\n",
       "      <th>Handcap</th>\n",
       "      <th>SMS_received</th>\n",
       "      <th>No-show</th>\n",
       "    </tr>\n",
       "  </thead>\n",
       "  <tbody>\n",
       "    <tr>\n",
       "      <th>0</th>\n",
       "      <td>2.987250e+13</td>\n",
       "      <td>5642903</td>\n",
       "      <td>F</td>\n",
       "      <td>2016-04-29T18:38:08Z</td>\n",
       "      <td>2016-04-29T00:00:00Z</td>\n",
       "      <td>62</td>\n",
       "      <td>JARDIM DA PENHA</td>\n",
       "      <td>0</td>\n",
       "      <td>1</td>\n",
       "      <td>0</td>\n",
       "      <td>0</td>\n",
       "      <td>0</td>\n",
       "      <td>0</td>\n",
       "      <td>No</td>\n",
       "    </tr>\n",
       "    <tr>\n",
       "      <th>1</th>\n",
       "      <td>5.589978e+14</td>\n",
       "      <td>5642503</td>\n",
       "      <td>M</td>\n",
       "      <td>2016-04-29T16:08:27Z</td>\n",
       "      <td>2016-04-29T00:00:00Z</td>\n",
       "      <td>56</td>\n",
       "      <td>JARDIM DA PENHA</td>\n",
       "      <td>0</td>\n",
       "      <td>0</td>\n",
       "      <td>0</td>\n",
       "      <td>0</td>\n",
       "      <td>0</td>\n",
       "      <td>0</td>\n",
       "      <td>No</td>\n",
       "    </tr>\n",
       "    <tr>\n",
       "      <th>2</th>\n",
       "      <td>4.262962e+12</td>\n",
       "      <td>5642549</td>\n",
       "      <td>F</td>\n",
       "      <td>2016-04-29T16:19:04Z</td>\n",
       "      <td>2016-04-29T00:00:00Z</td>\n",
       "      <td>62</td>\n",
       "      <td>MATA DA PRAIA</td>\n",
       "      <td>0</td>\n",
       "      <td>0</td>\n",
       "      <td>0</td>\n",
       "      <td>0</td>\n",
       "      <td>0</td>\n",
       "      <td>0</td>\n",
       "      <td>No</td>\n",
       "    </tr>\n",
       "    <tr>\n",
       "      <th>3</th>\n",
       "      <td>8.679512e+11</td>\n",
       "      <td>5642828</td>\n",
       "      <td>F</td>\n",
       "      <td>2016-04-29T17:29:31Z</td>\n",
       "      <td>2016-04-29T00:00:00Z</td>\n",
       "      <td>8</td>\n",
       "      <td>PONTAL DE CAMBURI</td>\n",
       "      <td>0</td>\n",
       "      <td>0</td>\n",
       "      <td>0</td>\n",
       "      <td>0</td>\n",
       "      <td>0</td>\n",
       "      <td>0</td>\n",
       "      <td>No</td>\n",
       "    </tr>\n",
       "    <tr>\n",
       "      <th>4</th>\n",
       "      <td>8.841186e+12</td>\n",
       "      <td>5642494</td>\n",
       "      <td>F</td>\n",
       "      <td>2016-04-29T16:07:23Z</td>\n",
       "      <td>2016-04-29T00:00:00Z</td>\n",
       "      <td>56</td>\n",
       "      <td>JARDIM DA PENHA</td>\n",
       "      <td>0</td>\n",
       "      <td>1</td>\n",
       "      <td>1</td>\n",
       "      <td>0</td>\n",
       "      <td>0</td>\n",
       "      <td>0</td>\n",
       "      <td>No</td>\n",
       "    </tr>\n",
       "  </tbody>\n",
       "</table>\n",
       "</div>"
      ],
      "text/plain": [
       "      PatientId  AppointmentID Gender          ScheduledDay  \\\n",
       "0  2.987250e+13        5642903      F  2016-04-29T18:38:08Z   \n",
       "1  5.589978e+14        5642503      M  2016-04-29T16:08:27Z   \n",
       "2  4.262962e+12        5642549      F  2016-04-29T16:19:04Z   \n",
       "3  8.679512e+11        5642828      F  2016-04-29T17:29:31Z   \n",
       "4  8.841186e+12        5642494      F  2016-04-29T16:07:23Z   \n",
       "\n",
       "         AppointmentDay  Age      Neighbourhood  Scholarship  Hipertension  \\\n",
       "0  2016-04-29T00:00:00Z   62    JARDIM DA PENHA            0             1   \n",
       "1  2016-04-29T00:00:00Z   56    JARDIM DA PENHA            0             0   \n",
       "2  2016-04-29T00:00:00Z   62      MATA DA PRAIA            0             0   \n",
       "3  2016-04-29T00:00:00Z    8  PONTAL DE CAMBURI            0             0   \n",
       "4  2016-04-29T00:00:00Z   56    JARDIM DA PENHA            0             1   \n",
       "\n",
       "   Diabetes  Alcoholism  Handcap  SMS_received No-show  \n",
       "0         0           0        0             0      No  \n",
       "1         0           0        0             0      No  \n",
       "2         0           0        0             0      No  \n",
       "3         0           0        0             0      No  \n",
       "4         1           0        0             0      No  "
      ]
     },
     "execution_count": 47,
     "metadata": {},
     "output_type": "execute_result"
    }
   ],
   "source": [
    "# First make a dataframe the file of the no show appointment that we will work on\n",
    "# Then show the head of the data frame\n",
    "df=pd.read_csv('noshowappointments-kagglev2-may-2016.csv')\n",
    "df.head()"
   ]
  },
  {
   "cell_type": "markdown",
   "metadata": {},
   "source": [
    "### First\n",
    "let's seet the missing values in each column and the data type of each column"
   ]
  },
  {
   "cell_type": "code",
   "execution_count": 48,
   "metadata": {},
   "outputs": [
    {
     "name": "stdout",
     "output_type": "stream",
     "text": [
      "<class 'pandas.core.frame.DataFrame'>\n",
      "RangeIndex: 110527 entries, 0 to 110526\n",
      "Data columns (total 14 columns):\n",
      "PatientId         110527 non-null float64\n",
      "AppointmentID     110527 non-null int64\n",
      "Gender            110527 non-null object\n",
      "ScheduledDay      110527 non-null object\n",
      "AppointmentDay    110527 non-null object\n",
      "Age               110527 non-null int64\n",
      "Neighbourhood     110527 non-null object\n",
      "Scholarship       110527 non-null int64\n",
      "Hipertension      110527 non-null int64\n",
      "Diabetes          110527 non-null int64\n",
      "Alcoholism        110527 non-null int64\n",
      "Handcap           110527 non-null int64\n",
      "SMS_received      110527 non-null int64\n",
      "No-show           110527 non-null object\n",
      "dtypes: float64(1), int64(8), object(5)\n",
      "memory usage: 11.8+ MB\n"
     ]
    }
   ],
   "source": [
    "# Here using the this line to inspect for any missing values and show the data type of each column\n",
    "df.info()"
   ]
  },
  {
   "cell_type": "markdown",
   "metadata": {},
   "source": [
    "It seems that there is no missing values in the DF\n",
    "### Second\n",
    "let us have a describtion of the values in the DF"
   ]
  },
  {
   "cell_type": "code",
   "execution_count": 49,
   "metadata": {},
   "outputs": [
    {
     "data": {
      "text/html": [
       "<div>\n",
       "<style scoped>\n",
       "    .dataframe tbody tr th:only-of-type {\n",
       "        vertical-align: middle;\n",
       "    }\n",
       "\n",
       "    .dataframe tbody tr th {\n",
       "        vertical-align: top;\n",
       "    }\n",
       "\n",
       "    .dataframe thead th {\n",
       "        text-align: right;\n",
       "    }\n",
       "</style>\n",
       "<table border=\"1\" class=\"dataframe\">\n",
       "  <thead>\n",
       "    <tr style=\"text-align: right;\">\n",
       "      <th></th>\n",
       "      <th>PatientId</th>\n",
       "      <th>AppointmentID</th>\n",
       "      <th>Age</th>\n",
       "      <th>Scholarship</th>\n",
       "      <th>Hipertension</th>\n",
       "      <th>Diabetes</th>\n",
       "      <th>Alcoholism</th>\n",
       "      <th>Handcap</th>\n",
       "      <th>SMS_received</th>\n",
       "    </tr>\n",
       "  </thead>\n",
       "  <tbody>\n",
       "    <tr>\n",
       "      <th>count</th>\n",
       "      <td>1.105270e+05</td>\n",
       "      <td>1.105270e+05</td>\n",
       "      <td>110527.000000</td>\n",
       "      <td>110527.000000</td>\n",
       "      <td>110527.000000</td>\n",
       "      <td>110527.000000</td>\n",
       "      <td>110527.000000</td>\n",
       "      <td>110527.000000</td>\n",
       "      <td>110527.000000</td>\n",
       "    </tr>\n",
       "    <tr>\n",
       "      <th>mean</th>\n",
       "      <td>1.474963e+14</td>\n",
       "      <td>5.675305e+06</td>\n",
       "      <td>37.088874</td>\n",
       "      <td>0.098266</td>\n",
       "      <td>0.197246</td>\n",
       "      <td>0.071865</td>\n",
       "      <td>0.030400</td>\n",
       "      <td>0.022248</td>\n",
       "      <td>0.321026</td>\n",
       "    </tr>\n",
       "    <tr>\n",
       "      <th>std</th>\n",
       "      <td>2.560949e+14</td>\n",
       "      <td>7.129575e+04</td>\n",
       "      <td>23.110205</td>\n",
       "      <td>0.297675</td>\n",
       "      <td>0.397921</td>\n",
       "      <td>0.258265</td>\n",
       "      <td>0.171686</td>\n",
       "      <td>0.161543</td>\n",
       "      <td>0.466873</td>\n",
       "    </tr>\n",
       "    <tr>\n",
       "      <th>min</th>\n",
       "      <td>3.921784e+04</td>\n",
       "      <td>5.030230e+06</td>\n",
       "      <td>-1.000000</td>\n",
       "      <td>0.000000</td>\n",
       "      <td>0.000000</td>\n",
       "      <td>0.000000</td>\n",
       "      <td>0.000000</td>\n",
       "      <td>0.000000</td>\n",
       "      <td>0.000000</td>\n",
       "    </tr>\n",
       "    <tr>\n",
       "      <th>25%</th>\n",
       "      <td>4.172614e+12</td>\n",
       "      <td>5.640286e+06</td>\n",
       "      <td>18.000000</td>\n",
       "      <td>0.000000</td>\n",
       "      <td>0.000000</td>\n",
       "      <td>0.000000</td>\n",
       "      <td>0.000000</td>\n",
       "      <td>0.000000</td>\n",
       "      <td>0.000000</td>\n",
       "    </tr>\n",
       "    <tr>\n",
       "      <th>50%</th>\n",
       "      <td>3.173184e+13</td>\n",
       "      <td>5.680573e+06</td>\n",
       "      <td>37.000000</td>\n",
       "      <td>0.000000</td>\n",
       "      <td>0.000000</td>\n",
       "      <td>0.000000</td>\n",
       "      <td>0.000000</td>\n",
       "      <td>0.000000</td>\n",
       "      <td>0.000000</td>\n",
       "    </tr>\n",
       "    <tr>\n",
       "      <th>75%</th>\n",
       "      <td>9.439172e+13</td>\n",
       "      <td>5.725524e+06</td>\n",
       "      <td>55.000000</td>\n",
       "      <td>0.000000</td>\n",
       "      <td>0.000000</td>\n",
       "      <td>0.000000</td>\n",
       "      <td>0.000000</td>\n",
       "      <td>0.000000</td>\n",
       "      <td>1.000000</td>\n",
       "    </tr>\n",
       "    <tr>\n",
       "      <th>max</th>\n",
       "      <td>9.999816e+14</td>\n",
       "      <td>5.790484e+06</td>\n",
       "      <td>115.000000</td>\n",
       "      <td>1.000000</td>\n",
       "      <td>1.000000</td>\n",
       "      <td>1.000000</td>\n",
       "      <td>1.000000</td>\n",
       "      <td>4.000000</td>\n",
       "      <td>1.000000</td>\n",
       "    </tr>\n",
       "  </tbody>\n",
       "</table>\n",
       "</div>"
      ],
      "text/plain": [
       "          PatientId  AppointmentID            Age    Scholarship  \\\n",
       "count  1.105270e+05   1.105270e+05  110527.000000  110527.000000   \n",
       "mean   1.474963e+14   5.675305e+06      37.088874       0.098266   \n",
       "std    2.560949e+14   7.129575e+04      23.110205       0.297675   \n",
       "min    3.921784e+04   5.030230e+06      -1.000000       0.000000   \n",
       "25%    4.172614e+12   5.640286e+06      18.000000       0.000000   \n",
       "50%    3.173184e+13   5.680573e+06      37.000000       0.000000   \n",
       "75%    9.439172e+13   5.725524e+06      55.000000       0.000000   \n",
       "max    9.999816e+14   5.790484e+06     115.000000       1.000000   \n",
       "\n",
       "        Hipertension       Diabetes     Alcoholism        Handcap  \\\n",
       "count  110527.000000  110527.000000  110527.000000  110527.000000   \n",
       "mean        0.197246       0.071865       0.030400       0.022248   \n",
       "std         0.397921       0.258265       0.171686       0.161543   \n",
       "min         0.000000       0.000000       0.000000       0.000000   \n",
       "25%         0.000000       0.000000       0.000000       0.000000   \n",
       "50%         0.000000       0.000000       0.000000       0.000000   \n",
       "75%         0.000000       0.000000       0.000000       0.000000   \n",
       "max         1.000000       1.000000       1.000000       4.000000   \n",
       "\n",
       "        SMS_received  \n",
       "count  110527.000000  \n",
       "mean        0.321026  \n",
       "std         0.466873  \n",
       "min         0.000000  \n",
       "25%         0.000000  \n",
       "50%         0.000000  \n",
       "75%         1.000000  \n",
       "max         1.000000  "
      ]
     },
     "execution_count": 49,
     "metadata": {},
     "output_type": "execute_result"
    }
   ],
   "source": [
    "# we used the describe line to see (max, min and mean values for each column)\n",
    "df.describe()"
   ]
  },
  {
   "cell_type": "markdown",
   "metadata": {},
   "source": [
    "We found unclean data there is age which is less than 0 , and also in the handcap column there is values greater than 1 and it is supposed to only be 0 or 1 True or False\n",
    "\n",
    "Check for the age which is less than zero"
   ]
  },
  {
   "cell_type": "code",
   "execution_count": 50,
   "metadata": {},
   "outputs": [
    {
     "data": {
      "text/html": [
       "<div>\n",
       "<style scoped>\n",
       "    .dataframe tbody tr th:only-of-type {\n",
       "        vertical-align: middle;\n",
       "    }\n",
       "\n",
       "    .dataframe tbody tr th {\n",
       "        vertical-align: top;\n",
       "    }\n",
       "\n",
       "    .dataframe thead th {\n",
       "        text-align: right;\n",
       "    }\n",
       "</style>\n",
       "<table border=\"1\" class=\"dataframe\">\n",
       "  <thead>\n",
       "    <tr style=\"text-align: right;\">\n",
       "      <th></th>\n",
       "      <th>PatientId</th>\n",
       "      <th>AppointmentID</th>\n",
       "      <th>Gender</th>\n",
       "      <th>ScheduledDay</th>\n",
       "      <th>AppointmentDay</th>\n",
       "      <th>Age</th>\n",
       "      <th>Neighbourhood</th>\n",
       "      <th>Scholarship</th>\n",
       "      <th>Hipertension</th>\n",
       "      <th>Diabetes</th>\n",
       "      <th>Alcoholism</th>\n",
       "      <th>Handcap</th>\n",
       "      <th>SMS_received</th>\n",
       "      <th>No-show</th>\n",
       "    </tr>\n",
       "  </thead>\n",
       "  <tbody>\n",
       "    <tr>\n",
       "      <th>99832</th>\n",
       "      <td>4.659432e+14</td>\n",
       "      <td>5775010</td>\n",
       "      <td>F</td>\n",
       "      <td>2016-06-06T08:58:13Z</td>\n",
       "      <td>2016-06-06T00:00:00Z</td>\n",
       "      <td>-1</td>\n",
       "      <td>ROMÃO</td>\n",
       "      <td>0</td>\n",
       "      <td>0</td>\n",
       "      <td>0</td>\n",
       "      <td>0</td>\n",
       "      <td>0</td>\n",
       "      <td>0</td>\n",
       "      <td>No</td>\n",
       "    </tr>\n",
       "  </tbody>\n",
       "</table>\n",
       "</div>"
      ],
      "text/plain": [
       "          PatientId  AppointmentID Gender          ScheduledDay  \\\n",
       "99832  4.659432e+14        5775010      F  2016-06-06T08:58:13Z   \n",
       "\n",
       "             AppointmentDay  Age Neighbourhood  Scholarship  Hipertension  \\\n",
       "99832  2016-06-06T00:00:00Z   -1         ROMÃO            0             0   \n",
       "\n",
       "       Diabetes  Alcoholism  Handcap  SMS_received No-show  \n",
       "99832         0           0        0             0      No  "
      ]
     },
     "execution_count": 50,
     "metadata": {},
     "output_type": "execute_result"
    }
   ],
   "source": [
    "# show the row where pateints age is less than zero years\n",
    "df.loc[df['Age'] < 0]"
   ]
  },
  {
   "cell_type": "markdown",
   "metadata": {},
   "source": [
    "then\n",
    "#### Check for handcap which is greater than one`"
   ]
  },
  {
   "cell_type": "code",
   "execution_count": 51,
   "metadata": {},
   "outputs": [
    {
     "data": {
      "text/html": [
       "<div>\n",
       "<style scoped>\n",
       "    .dataframe tbody tr th:only-of-type {\n",
       "        vertical-align: middle;\n",
       "    }\n",
       "\n",
       "    .dataframe tbody tr th {\n",
       "        vertical-align: top;\n",
       "    }\n",
       "\n",
       "    .dataframe thead th {\n",
       "        text-align: right;\n",
       "    }\n",
       "</style>\n",
       "<table border=\"1\" class=\"dataframe\">\n",
       "  <thead>\n",
       "    <tr style=\"text-align: right;\">\n",
       "      <th></th>\n",
       "      <th>PatientId</th>\n",
       "      <th>AppointmentID</th>\n",
       "      <th>Gender</th>\n",
       "      <th>ScheduledDay</th>\n",
       "      <th>AppointmentDay</th>\n",
       "      <th>Age</th>\n",
       "      <th>Neighbourhood</th>\n",
       "      <th>Scholarship</th>\n",
       "      <th>Hipertension</th>\n",
       "      <th>Diabetes</th>\n",
       "      <th>Alcoholism</th>\n",
       "      <th>Handcap</th>\n",
       "      <th>SMS_received</th>\n",
       "      <th>No-show</th>\n",
       "    </tr>\n",
       "  </thead>\n",
       "  <tbody>\n",
       "    <tr>\n",
       "      <th>946</th>\n",
       "      <td>7.282582e+13</td>\n",
       "      <td>5582483</td>\n",
       "      <td>M</td>\n",
       "      <td>2016-04-14T09:26:08Z</td>\n",
       "      <td>2016-04-29T00:00:00Z</td>\n",
       "      <td>94</td>\n",
       "      <td>BELA VISTA</td>\n",
       "      <td>0</td>\n",
       "      <td>1</td>\n",
       "      <td>1</td>\n",
       "      <td>0</td>\n",
       "      <td>2</td>\n",
       "      <td>1</td>\n",
       "      <td>No</td>\n",
       "    </tr>\n",
       "    <tr>\n",
       "      <th>1665</th>\n",
       "      <td>1.242919e+13</td>\n",
       "      <td>5525497</td>\n",
       "      <td>M</td>\n",
       "      <td>2016-03-30T09:16:41Z</td>\n",
       "      <td>2016-04-29T00:00:00Z</td>\n",
       "      <td>64</td>\n",
       "      <td>SANTA MARTHA</td>\n",
       "      <td>0</td>\n",
       "      <td>1</td>\n",
       "      <td>0</td>\n",
       "      <td>1</td>\n",
       "      <td>2</td>\n",
       "      <td>1</td>\n",
       "      <td>No</td>\n",
       "    </tr>\n",
       "    <tr>\n",
       "      <th>1666</th>\n",
       "      <td>1.242919e+13</td>\n",
       "      <td>5525498</td>\n",
       "      <td>M</td>\n",
       "      <td>2016-03-30T09:16:41Z</td>\n",
       "      <td>2016-04-29T00:00:00Z</td>\n",
       "      <td>64</td>\n",
       "      <td>SANTA MARTHA</td>\n",
       "      <td>0</td>\n",
       "      <td>1</td>\n",
       "      <td>0</td>\n",
       "      <td>1</td>\n",
       "      <td>2</td>\n",
       "      <td>0</td>\n",
       "      <td>No</td>\n",
       "    </tr>\n",
       "    <tr>\n",
       "      <th>2071</th>\n",
       "      <td>1.242919e+13</td>\n",
       "      <td>5640120</td>\n",
       "      <td>M</td>\n",
       "      <td>2016-04-29T10:08:48Z</td>\n",
       "      <td>2016-04-29T00:00:00Z</td>\n",
       "      <td>64</td>\n",
       "      <td>SANTA MARTHA</td>\n",
       "      <td>0</td>\n",
       "      <td>1</td>\n",
       "      <td>0</td>\n",
       "      <td>1</td>\n",
       "      <td>2</td>\n",
       "      <td>0</td>\n",
       "      <td>No</td>\n",
       "    </tr>\n",
       "    <tr>\n",
       "      <th>2091</th>\n",
       "      <td>1.491829e+13</td>\n",
       "      <td>5638626</td>\n",
       "      <td>F</td>\n",
       "      <td>2016-04-29T08:13:59Z</td>\n",
       "      <td>2016-04-29T00:00:00Z</td>\n",
       "      <td>11</td>\n",
       "      <td>ANDORINHAS</td>\n",
       "      <td>0</td>\n",
       "      <td>0</td>\n",
       "      <td>0</td>\n",
       "      <td>0</td>\n",
       "      <td>2</td>\n",
       "      <td>0</td>\n",
       "      <td>No</td>\n",
       "    </tr>\n",
       "    <tr>\n",
       "      <th>2213</th>\n",
       "      <td>3.423831e+09</td>\n",
       "      <td>5640766</td>\n",
       "      <td>F</td>\n",
       "      <td>2016-04-29T11:22:50Z</td>\n",
       "      <td>2016-04-29T00:00:00Z</td>\n",
       "      <td>29</td>\n",
       "      <td>VILA RUBIM</td>\n",
       "      <td>0</td>\n",
       "      <td>0</td>\n",
       "      <td>0</td>\n",
       "      <td>0</td>\n",
       "      <td>2</td>\n",
       "      <td>0</td>\n",
       "      <td>No</td>\n",
       "    </tr>\n",
       "    <tr>\n",
       "      <th>2214</th>\n",
       "      <td>2.754718e+12</td>\n",
       "      <td>5640760</td>\n",
       "      <td>M</td>\n",
       "      <td>2016-04-29T11:22:20Z</td>\n",
       "      <td>2016-04-29T00:00:00Z</td>\n",
       "      <td>55</td>\n",
       "      <td>DO QUADRO</td>\n",
       "      <td>0</td>\n",
       "      <td>0</td>\n",
       "      <td>0</td>\n",
       "      <td>0</td>\n",
       "      <td>3</td>\n",
       "      <td>0</td>\n",
       "      <td>No</td>\n",
       "    </tr>\n",
       "    <tr>\n",
       "      <th>2673</th>\n",
       "      <td>4.415275e+13</td>\n",
       "      <td>5589893</td>\n",
       "      <td>M</td>\n",
       "      <td>2016-04-15T13:06:05Z</td>\n",
       "      <td>2016-04-29T00:00:00Z</td>\n",
       "      <td>17</td>\n",
       "      <td>SANTA TEREZA</td>\n",
       "      <td>0</td>\n",
       "      <td>0</td>\n",
       "      <td>0</td>\n",
       "      <td>0</td>\n",
       "      <td>2</td>\n",
       "      <td>1</td>\n",
       "      <td>No</td>\n",
       "    </tr>\n",
       "    <tr>\n",
       "      <th>5424</th>\n",
       "      <td>1.647280e+12</td>\n",
       "      <td>5647342</td>\n",
       "      <td>M</td>\n",
       "      <td>2016-05-02T13:24:36Z</td>\n",
       "      <td>2016-05-04T00:00:00Z</td>\n",
       "      <td>65</td>\n",
       "      <td>SANTO ANDRÉ</td>\n",
       "      <td>0</td>\n",
       "      <td>1</td>\n",
       "      <td>1</td>\n",
       "      <td>1</td>\n",
       "      <td>2</td>\n",
       "      <td>0</td>\n",
       "      <td>Yes</td>\n",
       "    </tr>\n",
       "    <tr>\n",
       "      <th>5467</th>\n",
       "      <td>4.555225e+12</td>\n",
       "      <td>5689883</td>\n",
       "      <td>F</td>\n",
       "      <td>2016-05-12T09:10:28Z</td>\n",
       "      <td>2016-05-16T00:00:00Z</td>\n",
       "      <td>10</td>\n",
       "      <td>BENTO FERREIRA</td>\n",
       "      <td>0</td>\n",
       "      <td>0</td>\n",
       "      <td>0</td>\n",
       "      <td>0</td>\n",
       "      <td>2</td>\n",
       "      <td>0</td>\n",
       "      <td>No</td>\n",
       "    </tr>\n",
       "    <tr>\n",
       "      <th>5475</th>\n",
       "      <td>5.662976e+14</td>\n",
       "      <td>5689889</td>\n",
       "      <td>F</td>\n",
       "      <td>2016-05-12T09:10:50Z</td>\n",
       "      <td>2016-05-16T00:00:00Z</td>\n",
       "      <td>34</td>\n",
       "      <td>JUCUTUQUARA</td>\n",
       "      <td>0</td>\n",
       "      <td>0</td>\n",
       "      <td>0</td>\n",
       "      <td>0</td>\n",
       "      <td>2</td>\n",
       "      <td>0</td>\n",
       "      <td>Yes</td>\n",
       "    </tr>\n",
       "    <tr>\n",
       "      <th>5485</th>\n",
       "      <td>6.878635e+13</td>\n",
       "      <td>5663683</td>\n",
       "      <td>F</td>\n",
       "      <td>2016-05-05T10:23:26Z</td>\n",
       "      <td>2016-05-09T00:00:00Z</td>\n",
       "      <td>16</td>\n",
       "      <td>SANTA TEREZA</td>\n",
       "      <td>0</td>\n",
       "      <td>0</td>\n",
       "      <td>0</td>\n",
       "      <td>0</td>\n",
       "      <td>2</td>\n",
       "      <td>0</td>\n",
       "      <td>No</td>\n",
       "    </tr>\n",
       "    <tr>\n",
       "      <th>5510</th>\n",
       "      <td>4.695963e+14</td>\n",
       "      <td>5658406</td>\n",
       "      <td>F</td>\n",
       "      <td>2016-05-04T11:06:48Z</td>\n",
       "      <td>2016-05-05T00:00:00Z</td>\n",
       "      <td>42</td>\n",
       "      <td>SÃO PEDRO</td>\n",
       "      <td>0</td>\n",
       "      <td>1</td>\n",
       "      <td>0</td>\n",
       "      <td>0</td>\n",
       "      <td>2</td>\n",
       "      <td>0</td>\n",
       "      <td>No</td>\n",
       "    </tr>\n",
       "    <tr>\n",
       "      <th>6067</th>\n",
       "      <td>7.543387e+12</td>\n",
       "      <td>5705981</td>\n",
       "      <td>F</td>\n",
       "      <td>2016-05-17T07:41:55Z</td>\n",
       "      <td>2016-05-19T00:00:00Z</td>\n",
       "      <td>10</td>\n",
       "      <td>RESISTÊNCIA</td>\n",
       "      <td>0</td>\n",
       "      <td>0</td>\n",
       "      <td>0</td>\n",
       "      <td>0</td>\n",
       "      <td>2</td>\n",
       "      <td>0</td>\n",
       "      <td>Yes</td>\n",
       "    </tr>\n",
       "    <tr>\n",
       "      <th>6156</th>\n",
       "      <td>2.499619e+12</td>\n",
       "      <td>5693766</td>\n",
       "      <td>F</td>\n",
       "      <td>2016-05-13T07:39:38Z</td>\n",
       "      <td>2016-05-17T00:00:00Z</td>\n",
       "      <td>29</td>\n",
       "      <td>SANTO ANTÔNIO</td>\n",
       "      <td>0</td>\n",
       "      <td>0</td>\n",
       "      <td>0</td>\n",
       "      <td>0</td>\n",
       "      <td>2</td>\n",
       "      <td>0</td>\n",
       "      <td>No</td>\n",
       "    </tr>\n",
       "    <tr>\n",
       "      <th>6401</th>\n",
       "      <td>4.887540e+13</td>\n",
       "      <td>5683453</td>\n",
       "      <td>F</td>\n",
       "      <td>2016-05-11T07:32:16Z</td>\n",
       "      <td>2016-05-13T00:00:00Z</td>\n",
       "      <td>19</td>\n",
       "      <td>VILA RUBIM</td>\n",
       "      <td>0</td>\n",
       "      <td>0</td>\n",
       "      <td>0</td>\n",
       "      <td>0</td>\n",
       "      <td>2</td>\n",
       "      <td>0</td>\n",
       "      <td>No</td>\n",
       "    </tr>\n",
       "    <tr>\n",
       "      <th>11227</th>\n",
       "      <td>1.572517e+13</td>\n",
       "      <td>5587572</td>\n",
       "      <td>M</td>\n",
       "      <td>2016-04-15T08:49:43Z</td>\n",
       "      <td>2016-05-19T00:00:00Z</td>\n",
       "      <td>18</td>\n",
       "      <td>RESISTÊNCIA</td>\n",
       "      <td>0</td>\n",
       "      <td>0</td>\n",
       "      <td>0</td>\n",
       "      <td>0</td>\n",
       "      <td>2</td>\n",
       "      <td>0</td>\n",
       "      <td>No</td>\n",
       "    </tr>\n",
       "    <tr>\n",
       "      <th>11230</th>\n",
       "      <td>1.572517e+13</td>\n",
       "      <td>5490501</td>\n",
       "      <td>M</td>\n",
       "      <td>2016-03-18T15:02:00Z</td>\n",
       "      <td>2016-05-19T00:00:00Z</td>\n",
       "      <td>18</td>\n",
       "      <td>RESISTÊNCIA</td>\n",
       "      <td>0</td>\n",
       "      <td>0</td>\n",
       "      <td>0</td>\n",
       "      <td>0</td>\n",
       "      <td>2</td>\n",
       "      <td>0</td>\n",
       "      <td>No</td>\n",
       "    </tr>\n",
       "    <tr>\n",
       "      <th>14847</th>\n",
       "      <td>4.415275e+13</td>\n",
       "      <td>5542536</td>\n",
       "      <td>M</td>\n",
       "      <td>2016-04-05T09:04:49Z</td>\n",
       "      <td>2016-05-05T00:00:00Z</td>\n",
       "      <td>17</td>\n",
       "      <td>SANTA TEREZA</td>\n",
       "      <td>0</td>\n",
       "      <td>0</td>\n",
       "      <td>0</td>\n",
       "      <td>0</td>\n",
       "      <td>2</td>\n",
       "      <td>1</td>\n",
       "      <td>No</td>\n",
       "    </tr>\n",
       "    <tr>\n",
       "      <th>15839</th>\n",
       "      <td>8.777356e+14</td>\n",
       "      <td>5645336</td>\n",
       "      <td>F</td>\n",
       "      <td>2016-05-02T09:46:27Z</td>\n",
       "      <td>2016-05-12T00:00:00Z</td>\n",
       "      <td>52</td>\n",
       "      <td>DE LOURDES</td>\n",
       "      <td>0</td>\n",
       "      <td>1</td>\n",
       "      <td>0</td>\n",
       "      <td>0</td>\n",
       "      <td>2</td>\n",
       "      <td>1</td>\n",
       "      <td>No</td>\n",
       "    </tr>\n",
       "    <tr>\n",
       "      <th>15845</th>\n",
       "      <td>8.777356e+14</td>\n",
       "      <td>5645338</td>\n",
       "      <td>F</td>\n",
       "      <td>2016-05-02T09:46:40Z</td>\n",
       "      <td>2016-05-12T00:00:00Z</td>\n",
       "      <td>52</td>\n",
       "      <td>DE LOURDES</td>\n",
       "      <td>0</td>\n",
       "      <td>1</td>\n",
       "      <td>0</td>\n",
       "      <td>0</td>\n",
       "      <td>2</td>\n",
       "      <td>0</td>\n",
       "      <td>No</td>\n",
       "    </tr>\n",
       "    <tr>\n",
       "      <th>16632</th>\n",
       "      <td>9.198994e+12</td>\n",
       "      <td>5643939</td>\n",
       "      <td>F</td>\n",
       "      <td>2016-05-02T08:04:06Z</td>\n",
       "      <td>2016-05-09T00:00:00Z</td>\n",
       "      <td>32</td>\n",
       "      <td>SANTA MARTHA</td>\n",
       "      <td>0</td>\n",
       "      <td>0</td>\n",
       "      <td>0</td>\n",
       "      <td>0</td>\n",
       "      <td>2</td>\n",
       "      <td>0</td>\n",
       "      <td>No</td>\n",
       "    </tr>\n",
       "    <tr>\n",
       "      <th>16634</th>\n",
       "      <td>9.198994e+12</td>\n",
       "      <td>5628893</td>\n",
       "      <td>F</td>\n",
       "      <td>2016-04-27T12:03:16Z</td>\n",
       "      <td>2016-05-02T00:00:00Z</td>\n",
       "      <td>32</td>\n",
       "      <td>SANTA MARTHA</td>\n",
       "      <td>0</td>\n",
       "      <td>0</td>\n",
       "      <td>0</td>\n",
       "      <td>0</td>\n",
       "      <td>2</td>\n",
       "      <td>0</td>\n",
       "      <td>Yes</td>\n",
       "    </tr>\n",
       "    <tr>\n",
       "      <th>16635</th>\n",
       "      <td>9.198994e+12</td>\n",
       "      <td>5643938</td>\n",
       "      <td>F</td>\n",
       "      <td>2016-05-02T08:04:06Z</td>\n",
       "      <td>2016-05-09T00:00:00Z</td>\n",
       "      <td>32</td>\n",
       "      <td>SANTA MARTHA</td>\n",
       "      <td>0</td>\n",
       "      <td>0</td>\n",
       "      <td>0</td>\n",
       "      <td>0</td>\n",
       "      <td>2</td>\n",
       "      <td>0</td>\n",
       "      <td>No</td>\n",
       "    </tr>\n",
       "    <tr>\n",
       "      <th>16636</th>\n",
       "      <td>9.198994e+12</td>\n",
       "      <td>5628883</td>\n",
       "      <td>F</td>\n",
       "      <td>2016-04-27T12:01:01Z</td>\n",
       "      <td>2016-05-02T00:00:00Z</td>\n",
       "      <td>32</td>\n",
       "      <td>SANTA MARTHA</td>\n",
       "      <td>0</td>\n",
       "      <td>0</td>\n",
       "      <td>0</td>\n",
       "      <td>0</td>\n",
       "      <td>2</td>\n",
       "      <td>0</td>\n",
       "      <td>Yes</td>\n",
       "    </tr>\n",
       "    <tr>\n",
       "      <th>17862</th>\n",
       "      <td>3.528117e+11</td>\n",
       "      <td>5667635</td>\n",
       "      <td>F</td>\n",
       "      <td>2016-05-06T07:59:24Z</td>\n",
       "      <td>2016-05-06T00:00:00Z</td>\n",
       "      <td>37</td>\n",
       "      <td>SANTO ANDRÉ</td>\n",
       "      <td>0</td>\n",
       "      <td>0</td>\n",
       "      <td>0</td>\n",
       "      <td>0</td>\n",
       "      <td>2</td>\n",
       "      <td>0</td>\n",
       "      <td>No</td>\n",
       "    </tr>\n",
       "    <tr>\n",
       "      <th>18241</th>\n",
       "      <td>1.335188e+14</td>\n",
       "      <td>5634881</td>\n",
       "      <td>M</td>\n",
       "      <td>2016-04-28T11:58:14Z</td>\n",
       "      <td>2016-05-04T00:00:00Z</td>\n",
       "      <td>4</td>\n",
       "      <td>PRAIA DO SUÁ</td>\n",
       "      <td>0</td>\n",
       "      <td>0</td>\n",
       "      <td>0</td>\n",
       "      <td>0</td>\n",
       "      <td>2</td>\n",
       "      <td>1</td>\n",
       "      <td>No</td>\n",
       "    </tr>\n",
       "    <tr>\n",
       "      <th>19264</th>\n",
       "      <td>3.118989e+13</td>\n",
       "      <td>5620963</td>\n",
       "      <td>F</td>\n",
       "      <td>2016-04-26T09:39:37Z</td>\n",
       "      <td>2016-05-10T00:00:00Z</td>\n",
       "      <td>89</td>\n",
       "      <td>ILHA DO PRÍNCIPE</td>\n",
       "      <td>0</td>\n",
       "      <td>1</td>\n",
       "      <td>0</td>\n",
       "      <td>0</td>\n",
       "      <td>2</td>\n",
       "      <td>1</td>\n",
       "      <td>Yes</td>\n",
       "    </tr>\n",
       "    <tr>\n",
       "      <th>19915</th>\n",
       "      <td>4.943464e+13</td>\n",
       "      <td>5626600</td>\n",
       "      <td>M</td>\n",
       "      <td>2016-04-27T08:25:25Z</td>\n",
       "      <td>2016-05-11T00:00:00Z</td>\n",
       "      <td>16</td>\n",
       "      <td>BELA VISTA</td>\n",
       "      <td>0</td>\n",
       "      <td>0</td>\n",
       "      <td>0</td>\n",
       "      <td>0</td>\n",
       "      <td>2</td>\n",
       "      <td>1</td>\n",
       "      <td>No</td>\n",
       "    </tr>\n",
       "    <tr>\n",
       "      <th>19981</th>\n",
       "      <td>8.656965e+11</td>\n",
       "      <td>5676303</td>\n",
       "      <td>M</td>\n",
       "      <td>2016-05-09T15:27:02Z</td>\n",
       "      <td>2016-05-12T00:00:00Z</td>\n",
       "      <td>89</td>\n",
       "      <td>BELA VISTA</td>\n",
       "      <td>0</td>\n",
       "      <td>1</td>\n",
       "      <td>1</td>\n",
       "      <td>0</td>\n",
       "      <td>2</td>\n",
       "      <td>0</td>\n",
       "      <td>No</td>\n",
       "    </tr>\n",
       "    <tr>\n",
       "      <th>...</th>\n",
       "      <td>...</td>\n",
       "      <td>...</td>\n",
       "      <td>...</td>\n",
       "      <td>...</td>\n",
       "      <td>...</td>\n",
       "      <td>...</td>\n",
       "      <td>...</td>\n",
       "      <td>...</td>\n",
       "      <td>...</td>\n",
       "      <td>...</td>\n",
       "      <td>...</td>\n",
       "      <td>...</td>\n",
       "      <td>...</td>\n",
       "      <td>...</td>\n",
       "    </tr>\n",
       "    <tr>\n",
       "      <th>96173</th>\n",
       "      <td>2.539250e+14</td>\n",
       "      <td>5680027</td>\n",
       "      <td>M</td>\n",
       "      <td>2016-05-10T10:57:48Z</td>\n",
       "      <td>2016-06-07T00:00:00Z</td>\n",
       "      <td>82</td>\n",
       "      <td>MATA DA PRAIA</td>\n",
       "      <td>0</td>\n",
       "      <td>1</td>\n",
       "      <td>0</td>\n",
       "      <td>0</td>\n",
       "      <td>2</td>\n",
       "      <td>0</td>\n",
       "      <td>No</td>\n",
       "    </tr>\n",
       "    <tr>\n",
       "      <th>96457</th>\n",
       "      <td>8.678294e+13</td>\n",
       "      <td>5778090</td>\n",
       "      <td>M</td>\n",
       "      <td>2016-06-06T15:02:34Z</td>\n",
       "      <td>2016-06-07T00:00:00Z</td>\n",
       "      <td>29</td>\n",
       "      <td>JARDIM DA PENHA</td>\n",
       "      <td>0</td>\n",
       "      <td>0</td>\n",
       "      <td>0</td>\n",
       "      <td>0</td>\n",
       "      <td>2</td>\n",
       "      <td>0</td>\n",
       "      <td>No</td>\n",
       "    </tr>\n",
       "    <tr>\n",
       "      <th>96831</th>\n",
       "      <td>1.193419e+12</td>\n",
       "      <td>5720593</td>\n",
       "      <td>F</td>\n",
       "      <td>2016-05-19T14:08:28Z</td>\n",
       "      <td>2016-06-02T00:00:00Z</td>\n",
       "      <td>97</td>\n",
       "      <td>MARUÍPE</td>\n",
       "      <td>0</td>\n",
       "      <td>1</td>\n",
       "      <td>0</td>\n",
       "      <td>0</td>\n",
       "      <td>2</td>\n",
       "      <td>0</td>\n",
       "      <td>No</td>\n",
       "    </tr>\n",
       "    <tr>\n",
       "      <th>97998</th>\n",
       "      <td>3.919248e+12</td>\n",
       "      <td>5763747</td>\n",
       "      <td>F</td>\n",
       "      <td>2016-06-02T09:21:08Z</td>\n",
       "      <td>2016-06-02T00:00:00Z</td>\n",
       "      <td>8</td>\n",
       "      <td>TABUAZEIRO</td>\n",
       "      <td>0</td>\n",
       "      <td>0</td>\n",
       "      <td>0</td>\n",
       "      <td>0</td>\n",
       "      <td>2</td>\n",
       "      <td>0</td>\n",
       "      <td>No</td>\n",
       "    </tr>\n",
       "    <tr>\n",
       "      <th>98045</th>\n",
       "      <td>8.777356e+14</td>\n",
       "      <td>5783965</td>\n",
       "      <td>F</td>\n",
       "      <td>2016-06-07T14:56:08Z</td>\n",
       "      <td>2016-06-07T00:00:00Z</td>\n",
       "      <td>52</td>\n",
       "      <td>DE LOURDES</td>\n",
       "      <td>0</td>\n",
       "      <td>1</td>\n",
       "      <td>0</td>\n",
       "      <td>0</td>\n",
       "      <td>2</td>\n",
       "      <td>0</td>\n",
       "      <td>No</td>\n",
       "    </tr>\n",
       "    <tr>\n",
       "      <th>98538</th>\n",
       "      <td>4.972463e+14</td>\n",
       "      <td>5760621</td>\n",
       "      <td>M</td>\n",
       "      <td>2016-06-01T15:11:25Z</td>\n",
       "      <td>2016-06-03T00:00:00Z</td>\n",
       "      <td>19</td>\n",
       "      <td>SÃO PEDRO</td>\n",
       "      <td>0</td>\n",
       "      <td>0</td>\n",
       "      <td>0</td>\n",
       "      <td>0</td>\n",
       "      <td>4</td>\n",
       "      <td>0</td>\n",
       "      <td>No</td>\n",
       "    </tr>\n",
       "    <tr>\n",
       "      <th>99455</th>\n",
       "      <td>7.711159e+12</td>\n",
       "      <td>5764899</td>\n",
       "      <td>F</td>\n",
       "      <td>2016-06-02T11:06:13Z</td>\n",
       "      <td>2016-06-02T00:00:00Z</td>\n",
       "      <td>40</td>\n",
       "      <td>DO QUADRO</td>\n",
       "      <td>0</td>\n",
       "      <td>0</td>\n",
       "      <td>0</td>\n",
       "      <td>0</td>\n",
       "      <td>2</td>\n",
       "      <td>0</td>\n",
       "      <td>No</td>\n",
       "    </tr>\n",
       "    <tr>\n",
       "      <th>100538</th>\n",
       "      <td>2.894486e+12</td>\n",
       "      <td>5781415</td>\n",
       "      <td>M</td>\n",
       "      <td>2016-06-07T09:27:29Z</td>\n",
       "      <td>2016-06-07T00:00:00Z</td>\n",
       "      <td>11</td>\n",
       "      <td>GOIABEIRAS</td>\n",
       "      <td>1</td>\n",
       "      <td>0</td>\n",
       "      <td>0</td>\n",
       "      <td>0</td>\n",
       "      <td>2</td>\n",
       "      <td>0</td>\n",
       "      <td>No</td>\n",
       "    </tr>\n",
       "    <tr>\n",
       "      <th>101074</th>\n",
       "      <td>9.198994e+12</td>\n",
       "      <td>5673190</td>\n",
       "      <td>F</td>\n",
       "      <td>2016-05-09T09:00:57Z</td>\n",
       "      <td>2016-06-07T00:00:00Z</td>\n",
       "      <td>33</td>\n",
       "      <td>SANTA MARTHA</td>\n",
       "      <td>0</td>\n",
       "      <td>0</td>\n",
       "      <td>0</td>\n",
       "      <td>0</td>\n",
       "      <td>2</td>\n",
       "      <td>0</td>\n",
       "      <td>No</td>\n",
       "    </tr>\n",
       "    <tr>\n",
       "      <th>101911</th>\n",
       "      <td>2.738747e+11</td>\n",
       "      <td>5782399</td>\n",
       "      <td>M</td>\n",
       "      <td>2016-06-07T11:10:08Z</td>\n",
       "      <td>2016-06-07T00:00:00Z</td>\n",
       "      <td>84</td>\n",
       "      <td>RESISTÊNCIA</td>\n",
       "      <td>0</td>\n",
       "      <td>1</td>\n",
       "      <td>0</td>\n",
       "      <td>0</td>\n",
       "      <td>2</td>\n",
       "      <td>0</td>\n",
       "      <td>Yes</td>\n",
       "    </tr>\n",
       "    <tr>\n",
       "      <th>101912</th>\n",
       "      <td>2.738747e+11</td>\n",
       "      <td>5782398</td>\n",
       "      <td>M</td>\n",
       "      <td>2016-06-07T11:09:45Z</td>\n",
       "      <td>2016-06-07T00:00:00Z</td>\n",
       "      <td>84</td>\n",
       "      <td>RESISTÊNCIA</td>\n",
       "      <td>0</td>\n",
       "      <td>1</td>\n",
       "      <td>0</td>\n",
       "      <td>0</td>\n",
       "      <td>2</td>\n",
       "      <td>0</td>\n",
       "      <td>No</td>\n",
       "    </tr>\n",
       "    <tr>\n",
       "      <th>101913</th>\n",
       "      <td>2.738747e+11</td>\n",
       "      <td>5782401</td>\n",
       "      <td>M</td>\n",
       "      <td>2016-06-07T11:10:22Z</td>\n",
       "      <td>2016-06-07T00:00:00Z</td>\n",
       "      <td>84</td>\n",
       "      <td>RESISTÊNCIA</td>\n",
       "      <td>0</td>\n",
       "      <td>1</td>\n",
       "      <td>0</td>\n",
       "      <td>0</td>\n",
       "      <td>2</td>\n",
       "      <td>0</td>\n",
       "      <td>Yes</td>\n",
       "    </tr>\n",
       "    <tr>\n",
       "      <th>101949</th>\n",
       "      <td>5.947843e+11</td>\n",
       "      <td>5778232</td>\n",
       "      <td>M</td>\n",
       "      <td>2016-06-06T15:14:05Z</td>\n",
       "      <td>2016-06-08T00:00:00Z</td>\n",
       "      <td>12</td>\n",
       "      <td>ESTRELINHA</td>\n",
       "      <td>0</td>\n",
       "      <td>0</td>\n",
       "      <td>0</td>\n",
       "      <td>0</td>\n",
       "      <td>2</td>\n",
       "      <td>0</td>\n",
       "      <td>Yes</td>\n",
       "    </tr>\n",
       "    <tr>\n",
       "      <th>102276</th>\n",
       "      <td>8.656965e+11</td>\n",
       "      <td>5777565</td>\n",
       "      <td>M</td>\n",
       "      <td>2016-06-06T14:02:28Z</td>\n",
       "      <td>2016-06-06T00:00:00Z</td>\n",
       "      <td>89</td>\n",
       "      <td>BELA VISTA</td>\n",
       "      <td>0</td>\n",
       "      <td>1</td>\n",
       "      <td>1</td>\n",
       "      <td>0</td>\n",
       "      <td>2</td>\n",
       "      <td>0</td>\n",
       "      <td>No</td>\n",
       "    </tr>\n",
       "    <tr>\n",
       "      <th>102360</th>\n",
       "      <td>2.387212e+14</td>\n",
       "      <td>5757117</td>\n",
       "      <td>F</td>\n",
       "      <td>2016-06-01T09:00:14Z</td>\n",
       "      <td>2016-06-01T00:00:00Z</td>\n",
       "      <td>44</td>\n",
       "      <td>ROMÃO</td>\n",
       "      <td>0</td>\n",
       "      <td>1</td>\n",
       "      <td>1</td>\n",
       "      <td>0</td>\n",
       "      <td>2</td>\n",
       "      <td>0</td>\n",
       "      <td>No</td>\n",
       "    </tr>\n",
       "    <tr>\n",
       "      <th>102955</th>\n",
       "      <td>4.777274e+13</td>\n",
       "      <td>5776274</td>\n",
       "      <td>F</td>\n",
       "      <td>2016-06-06T10:45:58Z</td>\n",
       "      <td>2016-06-06T00:00:00Z</td>\n",
       "      <td>15</td>\n",
       "      <td>JOANA D´ARC</td>\n",
       "      <td>1</td>\n",
       "      <td>0</td>\n",
       "      <td>0</td>\n",
       "      <td>0</td>\n",
       "      <td>2</td>\n",
       "      <td>0</td>\n",
       "      <td>No</td>\n",
       "    </tr>\n",
       "    <tr>\n",
       "      <th>104268</th>\n",
       "      <td>7.581895e+14</td>\n",
       "      <td>5697136</td>\n",
       "      <td>F</td>\n",
       "      <td>2016-05-13T15:01:17Z</td>\n",
       "      <td>2016-06-02T00:00:00Z</td>\n",
       "      <td>9</td>\n",
       "      <td>ITARARÉ</td>\n",
       "      <td>0</td>\n",
       "      <td>0</td>\n",
       "      <td>0</td>\n",
       "      <td>0</td>\n",
       "      <td>4</td>\n",
       "      <td>1</td>\n",
       "      <td>Yes</td>\n",
       "    </tr>\n",
       "    <tr>\n",
       "      <th>104927</th>\n",
       "      <td>3.995198e+12</td>\n",
       "      <td>5734981</td>\n",
       "      <td>M</td>\n",
       "      <td>2016-05-24T16:35:44Z</td>\n",
       "      <td>2016-06-01T00:00:00Z</td>\n",
       "      <td>70</td>\n",
       "      <td>ANDORINHAS</td>\n",
       "      <td>0</td>\n",
       "      <td>0</td>\n",
       "      <td>0</td>\n",
       "      <td>1</td>\n",
       "      <td>3</td>\n",
       "      <td>0</td>\n",
       "      <td>No</td>\n",
       "    </tr>\n",
       "    <tr>\n",
       "      <th>104931</th>\n",
       "      <td>3.995198e+12</td>\n",
       "      <td>5734979</td>\n",
       "      <td>M</td>\n",
       "      <td>2016-05-24T16:35:44Z</td>\n",
       "      <td>2016-06-01T00:00:00Z</td>\n",
       "      <td>70</td>\n",
       "      <td>ANDORINHAS</td>\n",
       "      <td>0</td>\n",
       "      <td>0</td>\n",
       "      <td>0</td>\n",
       "      <td>1</td>\n",
       "      <td>3</td>\n",
       "      <td>0</td>\n",
       "      <td>No</td>\n",
       "    </tr>\n",
       "    <tr>\n",
       "      <th>104932</th>\n",
       "      <td>3.995198e+12</td>\n",
       "      <td>5734980</td>\n",
       "      <td>M</td>\n",
       "      <td>2016-05-24T16:35:44Z</td>\n",
       "      <td>2016-06-01T00:00:00Z</td>\n",
       "      <td>70</td>\n",
       "      <td>ANDORINHAS</td>\n",
       "      <td>0</td>\n",
       "      <td>0</td>\n",
       "      <td>0</td>\n",
       "      <td>1</td>\n",
       "      <td>3</td>\n",
       "      <td>0</td>\n",
       "      <td>No</td>\n",
       "    </tr>\n",
       "    <tr>\n",
       "      <th>105008</th>\n",
       "      <td>3.528117e+11</td>\n",
       "      <td>5781111</td>\n",
       "      <td>F</td>\n",
       "      <td>2016-06-07T09:03:12Z</td>\n",
       "      <td>2016-06-07T00:00:00Z</td>\n",
       "      <td>37</td>\n",
       "      <td>SANTO ANDRÉ</td>\n",
       "      <td>0</td>\n",
       "      <td>0</td>\n",
       "      <td>0</td>\n",
       "      <td>0</td>\n",
       "      <td>2</td>\n",
       "      <td>0</td>\n",
       "      <td>No</td>\n",
       "    </tr>\n",
       "    <tr>\n",
       "      <th>105073</th>\n",
       "      <td>7.892483e+12</td>\n",
       "      <td>5698177</td>\n",
       "      <td>F</td>\n",
       "      <td>2016-05-16T07:20:46Z</td>\n",
       "      <td>2016-06-01T00:00:00Z</td>\n",
       "      <td>35</td>\n",
       "      <td>BELA VISTA</td>\n",
       "      <td>1</td>\n",
       "      <td>0</td>\n",
       "      <td>1</td>\n",
       "      <td>0</td>\n",
       "      <td>2</td>\n",
       "      <td>1</td>\n",
       "      <td>No</td>\n",
       "    </tr>\n",
       "    <tr>\n",
       "      <th>105322</th>\n",
       "      <td>9.556215e+12</td>\n",
       "      <td>5755462</td>\n",
       "      <td>M</td>\n",
       "      <td>2016-06-01T07:23:50Z</td>\n",
       "      <td>2016-06-01T00:00:00Z</td>\n",
       "      <td>6</td>\n",
       "      <td>SANTA CLARA</td>\n",
       "      <td>0</td>\n",
       "      <td>0</td>\n",
       "      <td>0</td>\n",
       "      <td>0</td>\n",
       "      <td>2</td>\n",
       "      <td>0</td>\n",
       "      <td>No</td>\n",
       "    </tr>\n",
       "    <tr>\n",
       "      <th>105753</th>\n",
       "      <td>9.511263e+13</td>\n",
       "      <td>5753736</td>\n",
       "      <td>M</td>\n",
       "      <td>2016-05-31T14:41:50Z</td>\n",
       "      <td>2016-06-02T00:00:00Z</td>\n",
       "      <td>32</td>\n",
       "      <td>REDENÇÃO</td>\n",
       "      <td>0</td>\n",
       "      <td>0</td>\n",
       "      <td>0</td>\n",
       "      <td>0</td>\n",
       "      <td>2</td>\n",
       "      <td>0</td>\n",
       "      <td>No</td>\n",
       "    </tr>\n",
       "    <tr>\n",
       "      <th>108335</th>\n",
       "      <td>1.817725e+11</td>\n",
       "      <td>5769728</td>\n",
       "      <td>M</td>\n",
       "      <td>2016-06-03T09:11:46Z</td>\n",
       "      <td>2016-06-08T00:00:00Z</td>\n",
       "      <td>45</td>\n",
       "      <td>ROMÃO</td>\n",
       "      <td>0</td>\n",
       "      <td>0</td>\n",
       "      <td>0</td>\n",
       "      <td>0</td>\n",
       "      <td>2</td>\n",
       "      <td>1</td>\n",
       "      <td>No</td>\n",
       "    </tr>\n",
       "    <tr>\n",
       "      <th>108376</th>\n",
       "      <td>2.387212e+14</td>\n",
       "      <td>5756931</td>\n",
       "      <td>F</td>\n",
       "      <td>2016-06-01T08:48:28Z</td>\n",
       "      <td>2016-06-07T00:00:00Z</td>\n",
       "      <td>44</td>\n",
       "      <td>ROMÃO</td>\n",
       "      <td>0</td>\n",
       "      <td>1</td>\n",
       "      <td>1</td>\n",
       "      <td>0</td>\n",
       "      <td>2</td>\n",
       "      <td>1</td>\n",
       "      <td>No</td>\n",
       "    </tr>\n",
       "    <tr>\n",
       "      <th>109484</th>\n",
       "      <td>3.589495e+14</td>\n",
       "      <td>5752442</td>\n",
       "      <td>M</td>\n",
       "      <td>2016-05-31T11:45:57Z</td>\n",
       "      <td>2016-06-02T00:00:00Z</td>\n",
       "      <td>64</td>\n",
       "      <td>DA PENHA</td>\n",
       "      <td>0</td>\n",
       "      <td>1</td>\n",
       "      <td>1</td>\n",
       "      <td>0</td>\n",
       "      <td>2</td>\n",
       "      <td>0</td>\n",
       "      <td>No</td>\n",
       "    </tr>\n",
       "    <tr>\n",
       "      <th>109733</th>\n",
       "      <td>5.662976e+14</td>\n",
       "      <td>5772744</td>\n",
       "      <td>F</td>\n",
       "      <td>2016-06-03T16:11:00Z</td>\n",
       "      <td>2016-06-07T00:00:00Z</td>\n",
       "      <td>34</td>\n",
       "      <td>JUCUTUQUARA</td>\n",
       "      <td>0</td>\n",
       "      <td>0</td>\n",
       "      <td>0</td>\n",
       "      <td>0</td>\n",
       "      <td>2</td>\n",
       "      <td>1</td>\n",
       "      <td>No</td>\n",
       "    </tr>\n",
       "    <tr>\n",
       "      <th>109975</th>\n",
       "      <td>4.522185e+13</td>\n",
       "      <td>5766970</td>\n",
       "      <td>M</td>\n",
       "      <td>2016-06-02T16:07:36Z</td>\n",
       "      <td>2016-06-06T00:00:00Z</td>\n",
       "      <td>39</td>\n",
       "      <td>PRAIA DO SUÁ</td>\n",
       "      <td>1</td>\n",
       "      <td>0</td>\n",
       "      <td>0</td>\n",
       "      <td>0</td>\n",
       "      <td>2</td>\n",
       "      <td>1</td>\n",
       "      <td>No</td>\n",
       "    </tr>\n",
       "    <tr>\n",
       "      <th>110107</th>\n",
       "      <td>7.143714e+14</td>\n",
       "      <td>5761625</td>\n",
       "      <td>F</td>\n",
       "      <td>2016-06-02T06:44:00Z</td>\n",
       "      <td>2016-06-06T00:00:00Z</td>\n",
       "      <td>44</td>\n",
       "      <td>RESISTÊNCIA</td>\n",
       "      <td>0</td>\n",
       "      <td>0</td>\n",
       "      <td>0</td>\n",
       "      <td>0</td>\n",
       "      <td>2</td>\n",
       "      <td>1</td>\n",
       "      <td>No</td>\n",
       "    </tr>\n",
       "  </tbody>\n",
       "</table>\n",
       "<p>199 rows × 14 columns</p>\n",
       "</div>"
      ],
      "text/plain": [
       "           PatientId  AppointmentID Gender          ScheduledDay  \\\n",
       "946     7.282582e+13        5582483      M  2016-04-14T09:26:08Z   \n",
       "1665    1.242919e+13        5525497      M  2016-03-30T09:16:41Z   \n",
       "1666    1.242919e+13        5525498      M  2016-03-30T09:16:41Z   \n",
       "2071    1.242919e+13        5640120      M  2016-04-29T10:08:48Z   \n",
       "2091    1.491829e+13        5638626      F  2016-04-29T08:13:59Z   \n",
       "2213    3.423831e+09        5640766      F  2016-04-29T11:22:50Z   \n",
       "2214    2.754718e+12        5640760      M  2016-04-29T11:22:20Z   \n",
       "2673    4.415275e+13        5589893      M  2016-04-15T13:06:05Z   \n",
       "5424    1.647280e+12        5647342      M  2016-05-02T13:24:36Z   \n",
       "5467    4.555225e+12        5689883      F  2016-05-12T09:10:28Z   \n",
       "5475    5.662976e+14        5689889      F  2016-05-12T09:10:50Z   \n",
       "5485    6.878635e+13        5663683      F  2016-05-05T10:23:26Z   \n",
       "5510    4.695963e+14        5658406      F  2016-05-04T11:06:48Z   \n",
       "6067    7.543387e+12        5705981      F  2016-05-17T07:41:55Z   \n",
       "6156    2.499619e+12        5693766      F  2016-05-13T07:39:38Z   \n",
       "6401    4.887540e+13        5683453      F  2016-05-11T07:32:16Z   \n",
       "11227   1.572517e+13        5587572      M  2016-04-15T08:49:43Z   \n",
       "11230   1.572517e+13        5490501      M  2016-03-18T15:02:00Z   \n",
       "14847   4.415275e+13        5542536      M  2016-04-05T09:04:49Z   \n",
       "15839   8.777356e+14        5645336      F  2016-05-02T09:46:27Z   \n",
       "15845   8.777356e+14        5645338      F  2016-05-02T09:46:40Z   \n",
       "16632   9.198994e+12        5643939      F  2016-05-02T08:04:06Z   \n",
       "16634   9.198994e+12        5628893      F  2016-04-27T12:03:16Z   \n",
       "16635   9.198994e+12        5643938      F  2016-05-02T08:04:06Z   \n",
       "16636   9.198994e+12        5628883      F  2016-04-27T12:01:01Z   \n",
       "17862   3.528117e+11        5667635      F  2016-05-06T07:59:24Z   \n",
       "18241   1.335188e+14        5634881      M  2016-04-28T11:58:14Z   \n",
       "19264   3.118989e+13        5620963      F  2016-04-26T09:39:37Z   \n",
       "19915   4.943464e+13        5626600      M  2016-04-27T08:25:25Z   \n",
       "19981   8.656965e+11        5676303      M  2016-05-09T15:27:02Z   \n",
       "...              ...            ...    ...                   ...   \n",
       "96173   2.539250e+14        5680027      M  2016-05-10T10:57:48Z   \n",
       "96457   8.678294e+13        5778090      M  2016-06-06T15:02:34Z   \n",
       "96831   1.193419e+12        5720593      F  2016-05-19T14:08:28Z   \n",
       "97998   3.919248e+12        5763747      F  2016-06-02T09:21:08Z   \n",
       "98045   8.777356e+14        5783965      F  2016-06-07T14:56:08Z   \n",
       "98538   4.972463e+14        5760621      M  2016-06-01T15:11:25Z   \n",
       "99455   7.711159e+12        5764899      F  2016-06-02T11:06:13Z   \n",
       "100538  2.894486e+12        5781415      M  2016-06-07T09:27:29Z   \n",
       "101074  9.198994e+12        5673190      F  2016-05-09T09:00:57Z   \n",
       "101911  2.738747e+11        5782399      M  2016-06-07T11:10:08Z   \n",
       "101912  2.738747e+11        5782398      M  2016-06-07T11:09:45Z   \n",
       "101913  2.738747e+11        5782401      M  2016-06-07T11:10:22Z   \n",
       "101949  5.947843e+11        5778232      M  2016-06-06T15:14:05Z   \n",
       "102276  8.656965e+11        5777565      M  2016-06-06T14:02:28Z   \n",
       "102360  2.387212e+14        5757117      F  2016-06-01T09:00:14Z   \n",
       "102955  4.777274e+13        5776274      F  2016-06-06T10:45:58Z   \n",
       "104268  7.581895e+14        5697136      F  2016-05-13T15:01:17Z   \n",
       "104927  3.995198e+12        5734981      M  2016-05-24T16:35:44Z   \n",
       "104931  3.995198e+12        5734979      M  2016-05-24T16:35:44Z   \n",
       "104932  3.995198e+12        5734980      M  2016-05-24T16:35:44Z   \n",
       "105008  3.528117e+11        5781111      F  2016-06-07T09:03:12Z   \n",
       "105073  7.892483e+12        5698177      F  2016-05-16T07:20:46Z   \n",
       "105322  9.556215e+12        5755462      M  2016-06-01T07:23:50Z   \n",
       "105753  9.511263e+13        5753736      M  2016-05-31T14:41:50Z   \n",
       "108335  1.817725e+11        5769728      M  2016-06-03T09:11:46Z   \n",
       "108376  2.387212e+14        5756931      F  2016-06-01T08:48:28Z   \n",
       "109484  3.589495e+14        5752442      M  2016-05-31T11:45:57Z   \n",
       "109733  5.662976e+14        5772744      F  2016-06-03T16:11:00Z   \n",
       "109975  4.522185e+13        5766970      M  2016-06-02T16:07:36Z   \n",
       "110107  7.143714e+14        5761625      F  2016-06-02T06:44:00Z   \n",
       "\n",
       "              AppointmentDay  Age     Neighbourhood  Scholarship  \\\n",
       "946     2016-04-29T00:00:00Z   94        BELA VISTA            0   \n",
       "1665    2016-04-29T00:00:00Z   64      SANTA MARTHA            0   \n",
       "1666    2016-04-29T00:00:00Z   64      SANTA MARTHA            0   \n",
       "2071    2016-04-29T00:00:00Z   64      SANTA MARTHA            0   \n",
       "2091    2016-04-29T00:00:00Z   11        ANDORINHAS            0   \n",
       "2213    2016-04-29T00:00:00Z   29        VILA RUBIM            0   \n",
       "2214    2016-04-29T00:00:00Z   55         DO QUADRO            0   \n",
       "2673    2016-04-29T00:00:00Z   17      SANTA TEREZA            0   \n",
       "5424    2016-05-04T00:00:00Z   65       SANTO ANDRÉ            0   \n",
       "5467    2016-05-16T00:00:00Z   10    BENTO FERREIRA            0   \n",
       "5475    2016-05-16T00:00:00Z   34       JUCUTUQUARA            0   \n",
       "5485    2016-05-09T00:00:00Z   16      SANTA TEREZA            0   \n",
       "5510    2016-05-05T00:00:00Z   42         SÃO PEDRO            0   \n",
       "6067    2016-05-19T00:00:00Z   10       RESISTÊNCIA            0   \n",
       "6156    2016-05-17T00:00:00Z   29     SANTO ANTÔNIO            0   \n",
       "6401    2016-05-13T00:00:00Z   19        VILA RUBIM            0   \n",
       "11227   2016-05-19T00:00:00Z   18       RESISTÊNCIA            0   \n",
       "11230   2016-05-19T00:00:00Z   18       RESISTÊNCIA            0   \n",
       "14847   2016-05-05T00:00:00Z   17      SANTA TEREZA            0   \n",
       "15839   2016-05-12T00:00:00Z   52        DE LOURDES            0   \n",
       "15845   2016-05-12T00:00:00Z   52        DE LOURDES            0   \n",
       "16632   2016-05-09T00:00:00Z   32      SANTA MARTHA            0   \n",
       "16634   2016-05-02T00:00:00Z   32      SANTA MARTHA            0   \n",
       "16635   2016-05-09T00:00:00Z   32      SANTA MARTHA            0   \n",
       "16636   2016-05-02T00:00:00Z   32      SANTA MARTHA            0   \n",
       "17862   2016-05-06T00:00:00Z   37       SANTO ANDRÉ            0   \n",
       "18241   2016-05-04T00:00:00Z    4      PRAIA DO SUÁ            0   \n",
       "19264   2016-05-10T00:00:00Z   89  ILHA DO PRÍNCIPE            0   \n",
       "19915   2016-05-11T00:00:00Z   16        BELA VISTA            0   \n",
       "19981   2016-05-12T00:00:00Z   89        BELA VISTA            0   \n",
       "...                      ...  ...               ...          ...   \n",
       "96173   2016-06-07T00:00:00Z   82     MATA DA PRAIA            0   \n",
       "96457   2016-06-07T00:00:00Z   29   JARDIM DA PENHA            0   \n",
       "96831   2016-06-02T00:00:00Z   97           MARUÍPE            0   \n",
       "97998   2016-06-02T00:00:00Z    8        TABUAZEIRO            0   \n",
       "98045   2016-06-07T00:00:00Z   52        DE LOURDES            0   \n",
       "98538   2016-06-03T00:00:00Z   19         SÃO PEDRO            0   \n",
       "99455   2016-06-02T00:00:00Z   40         DO QUADRO            0   \n",
       "100538  2016-06-07T00:00:00Z   11        GOIABEIRAS            1   \n",
       "101074  2016-06-07T00:00:00Z   33      SANTA MARTHA            0   \n",
       "101911  2016-06-07T00:00:00Z   84       RESISTÊNCIA            0   \n",
       "101912  2016-06-07T00:00:00Z   84       RESISTÊNCIA            0   \n",
       "101913  2016-06-07T00:00:00Z   84       RESISTÊNCIA            0   \n",
       "101949  2016-06-08T00:00:00Z   12        ESTRELINHA            0   \n",
       "102276  2016-06-06T00:00:00Z   89        BELA VISTA            0   \n",
       "102360  2016-06-01T00:00:00Z   44             ROMÃO            0   \n",
       "102955  2016-06-06T00:00:00Z   15       JOANA D´ARC            1   \n",
       "104268  2016-06-02T00:00:00Z    9           ITARARÉ            0   \n",
       "104927  2016-06-01T00:00:00Z   70        ANDORINHAS            0   \n",
       "104931  2016-06-01T00:00:00Z   70        ANDORINHAS            0   \n",
       "104932  2016-06-01T00:00:00Z   70        ANDORINHAS            0   \n",
       "105008  2016-06-07T00:00:00Z   37       SANTO ANDRÉ            0   \n",
       "105073  2016-06-01T00:00:00Z   35        BELA VISTA            1   \n",
       "105322  2016-06-01T00:00:00Z    6       SANTA CLARA            0   \n",
       "105753  2016-06-02T00:00:00Z   32          REDENÇÃO            0   \n",
       "108335  2016-06-08T00:00:00Z   45             ROMÃO            0   \n",
       "108376  2016-06-07T00:00:00Z   44             ROMÃO            0   \n",
       "109484  2016-06-02T00:00:00Z   64          DA PENHA            0   \n",
       "109733  2016-06-07T00:00:00Z   34       JUCUTUQUARA            0   \n",
       "109975  2016-06-06T00:00:00Z   39      PRAIA DO SUÁ            1   \n",
       "110107  2016-06-06T00:00:00Z   44       RESISTÊNCIA            0   \n",
       "\n",
       "        Hipertension  Diabetes  Alcoholism  Handcap  SMS_received No-show  \n",
       "946                1         1           0        2             1      No  \n",
       "1665               1         0           1        2             1      No  \n",
       "1666               1         0           1        2             0      No  \n",
       "2071               1         0           1        2             0      No  \n",
       "2091               0         0           0        2             0      No  \n",
       "2213               0         0           0        2             0      No  \n",
       "2214               0         0           0        3             0      No  \n",
       "2673               0         0           0        2             1      No  \n",
       "5424               1         1           1        2             0     Yes  \n",
       "5467               0         0           0        2             0      No  \n",
       "5475               0         0           0        2             0     Yes  \n",
       "5485               0         0           0        2             0      No  \n",
       "5510               1         0           0        2             0      No  \n",
       "6067               0         0           0        2             0     Yes  \n",
       "6156               0         0           0        2             0      No  \n",
       "6401               0         0           0        2             0      No  \n",
       "11227              0         0           0        2             0      No  \n",
       "11230              0         0           0        2             0      No  \n",
       "14847              0         0           0        2             1      No  \n",
       "15839              1         0           0        2             1      No  \n",
       "15845              1         0           0        2             0      No  \n",
       "16632              0         0           0        2             0      No  \n",
       "16634              0         0           0        2             0     Yes  \n",
       "16635              0         0           0        2             0      No  \n",
       "16636              0         0           0        2             0     Yes  \n",
       "17862              0         0           0        2             0      No  \n",
       "18241              0         0           0        2             1      No  \n",
       "19264              1         0           0        2             1     Yes  \n",
       "19915              0         0           0        2             1      No  \n",
       "19981              1         1           0        2             0      No  \n",
       "...              ...       ...         ...      ...           ...     ...  \n",
       "96173              1         0           0        2             0      No  \n",
       "96457              0         0           0        2             0      No  \n",
       "96831              1         0           0        2             0      No  \n",
       "97998              0         0           0        2             0      No  \n",
       "98045              1         0           0        2             0      No  \n",
       "98538              0         0           0        4             0      No  \n",
       "99455              0         0           0        2             0      No  \n",
       "100538             0         0           0        2             0      No  \n",
       "101074             0         0           0        2             0      No  \n",
       "101911             1         0           0        2             0     Yes  \n",
       "101912             1         0           0        2             0      No  \n",
       "101913             1         0           0        2             0     Yes  \n",
       "101949             0         0           0        2             0     Yes  \n",
       "102276             1         1           0        2             0      No  \n",
       "102360             1         1           0        2             0      No  \n",
       "102955             0         0           0        2             0      No  \n",
       "104268             0         0           0        4             1     Yes  \n",
       "104927             0         0           1        3             0      No  \n",
       "104931             0         0           1        3             0      No  \n",
       "104932             0         0           1        3             0      No  \n",
       "105008             0         0           0        2             0      No  \n",
       "105073             0         1           0        2             1      No  \n",
       "105322             0         0           0        2             0      No  \n",
       "105753             0         0           0        2             0      No  \n",
       "108335             0         0           0        2             1      No  \n",
       "108376             1         1           0        2             1      No  \n",
       "109484             1         1           0        2             0      No  \n",
       "109733             0         0           0        2             1      No  \n",
       "109975             0         0           0        2             1      No  \n",
       "110107             0         0           0        2             1      No  \n",
       "\n",
       "[199 rows x 14 columns]"
      ]
     },
     "execution_count": 51,
     "metadata": {},
     "output_type": "execute_result"
    }
   ],
   "source": [
    "# check for the rows where the handcap value is less greater than one as handcap is supposed to be true or false value\n",
    "df.loc[df['Handcap']>1]"
   ]
  },
  {
   "cell_type": "markdown",
   "metadata": {},
   "source": [
    "### Data Cleaning"
   ]
  },
  {
   "cell_type": "markdown",
   "metadata": {},
   "source": [
    "## First \n",
    "We are gonna drop non sueful columns [PatientId, AppointmentID]"
   ]
  },
  {
   "cell_type": "code",
   "execution_count": 52,
   "metadata": {},
   "outputs": [],
   "source": [
    "# We dropped these two columns as we supplsed thwy are not useful\n",
    "df.drop(['PatientId','AppointmentID'],axis=1, inplace=True)"
   ]
  },
  {
   "cell_type": "markdown",
   "metadata": {},
   "source": [
    "## Second\n",
    "Change the column names to lower case"
   ]
  },
  {
   "cell_type": "code",
   "execution_count": 53,
   "metadata": {},
   "outputs": [],
   "source": [
    "# Change column names to lowercases and change the '-' to '_' to be easier in dealing with \n",
    "df.rename(columns= lambda x: x.strip().lower().replace('-','_'),inplace=True)"
   ]
  },
  {
   "cell_type": "markdown",
   "metadata": {},
   "source": [
    "### Third\n",
    "Drop the row in wich the value of the age is -1"
   ]
  },
  {
   "cell_type": "code",
   "execution_count": 54,
   "metadata": {},
   "outputs": [],
   "source": [
    "# Dropping the rows where patients age less than 0 as it is unreasonable\n",
    "df.drop(df[df['age']<0].index,inplace= True)"
   ]
  },
  {
   "cell_type": "markdown",
   "metadata": {},
   "source": [
    "Since the rows of 'handcap' values are 199 rows i feel it will be better to assume that it was a mistake and meant to be a True value and not drop the rows\n",
    "#### Fourth\n",
    "Replace Values which is greater than 1 in the handcap column with the 1"
   ]
  },
  {
   "cell_type": "code",
   "execution_count": 55,
   "metadata": {},
   "outputs": [],
   "source": [
    "# As we found the handcap number of rows have values greater than 1 are 199 rows,\n",
    "# i see it is beteer to change these values with 1 as a true value\n",
    "df['handcap']=df['handcap'].replace([2,3,4],1)"
   ]
  },
  {
   "cell_type": "markdown",
   "metadata": {},
   "source": [
    "#### Fifth\n",
    "Change the appointmentday to datetime type to do operations on it\n",
    "Change the scheduledday to datetime type to do operations on it"
   ]
  },
  {
   "cell_type": "code",
   "execution_count": 56,
   "metadata": {},
   "outputs": [],
   "source": [
    "# I changed the data type of these two column to datetime so i could subtract appointmentday from scheduledday\n",
    "df['appointmentday']=pd.to_datetime(df['appointmentday'])\n",
    "df['scheduledday']=pd.to_datetime(df['scheduledday'])"
   ]
  },
  {
   "cell_type": "markdown",
   "metadata": {},
   "source": [
    "#### Sixth\n",
    "Creat a new column called 'day_difference' which describe the difffernce betweent the appointmentday and scheduledday"
   ]
  },
  {
   "cell_type": "code",
   "execution_count": 57,
   "metadata": {},
   "outputs": [],
   "source": [
    "df['day_difference']=df['appointmentday']-df['scheduledday']"
   ]
  },
  {
   "cell_type": "markdown",
   "metadata": {},
   "source": [
    "Take a look of the new column"
   ]
  },
  {
   "cell_type": "code",
   "execution_count": 58,
   "metadata": {},
   "outputs": [
    {
     "data": {
      "text/plain": [
       "0   -1 days +05:21:52\n",
       "1   -1 days +07:51:33\n",
       "2   -1 days +07:40:56\n",
       "3   -1 days +06:30:29\n",
       "4   -1 days +07:52:37\n",
       "Name: day_difference, dtype: timedelta64[ns]"
      ]
     },
     "execution_count": 58,
     "metadata": {},
     "output_type": "execute_result"
    }
   ],
   "source": [
    "# Here i wanted to see what the values of the new column i created looks like\n",
    "df['day_difference'].head()"
   ]
  },
  {
   "cell_type": "markdown",
   "metadata": {},
   "source": [
    "Make 'day_difference' column in hours"
   ]
  },
  {
   "cell_type": "code",
   "execution_count": 59,
   "metadata": {},
   "outputs": [],
   "source": [
    "# I changed the column to hours value so it would be easier to deal with.\n",
    "df['day_difference']=df['day_difference']/pd.Timedelta(hours=1)"
   ]
  },
  {
   "cell_type": "markdown",
   "metadata": {},
   "source": [
    "Inspect 'day_difference' column after changing"
   ]
  },
  {
   "cell_type": "code",
   "execution_count": 60,
   "metadata": {},
   "outputs": [
    {
     "data": {
      "text/plain": [
       "0   -18.635556\n",
       "1   -16.140833\n",
       "2   -16.317778\n",
       "3   -17.491944\n",
       "4   -16.123056\n",
       "Name: day_difference, dtype: float64"
      ]
     },
     "execution_count": 60,
     "metadata": {},
     "output_type": "execute_result"
    }
   ],
   "source": [
    "# # Here i wanted to see what the values of the 'day_difference' i created looks like\n",
    "df['day_difference'].head()"
   ]
  },
  {
   "cell_type": "markdown",
   "metadata": {},
   "source": [
    "now check that if there is a value less than -24 which mean that that appointmentdate is before the scheduledday"
   ]
  },
  {
   "cell_type": "code",
   "execution_count": 61,
   "metadata": {},
   "outputs": [
    {
     "data": {
      "text/html": [
       "<div>\n",
       "<style scoped>\n",
       "    .dataframe tbody tr th:only-of-type {\n",
       "        vertical-align: middle;\n",
       "    }\n",
       "\n",
       "    .dataframe tbody tr th {\n",
       "        vertical-align: top;\n",
       "    }\n",
       "\n",
       "    .dataframe thead th {\n",
       "        text-align: right;\n",
       "    }\n",
       "</style>\n",
       "<table border=\"1\" class=\"dataframe\">\n",
       "  <thead>\n",
       "    <tr style=\"text-align: right;\">\n",
       "      <th></th>\n",
       "      <th>gender</th>\n",
       "      <th>scheduledday</th>\n",
       "      <th>appointmentday</th>\n",
       "      <th>age</th>\n",
       "      <th>neighbourhood</th>\n",
       "      <th>scholarship</th>\n",
       "      <th>hipertension</th>\n",
       "      <th>diabetes</th>\n",
       "      <th>alcoholism</th>\n",
       "      <th>handcap</th>\n",
       "      <th>sms_received</th>\n",
       "      <th>no_show</th>\n",
       "      <th>day_difference</th>\n",
       "    </tr>\n",
       "  </thead>\n",
       "  <tbody>\n",
       "    <tr>\n",
       "      <th>27033</th>\n",
       "      <td>M</td>\n",
       "      <td>2016-05-10 10:51:53</td>\n",
       "      <td>2016-05-09</td>\n",
       "      <td>38</td>\n",
       "      <td>RESISTÊNCIA</td>\n",
       "      <td>0</td>\n",
       "      <td>0</td>\n",
       "      <td>0</td>\n",
       "      <td>0</td>\n",
       "      <td>1</td>\n",
       "      <td>0</td>\n",
       "      <td>Yes</td>\n",
       "      <td>-34.864722</td>\n",
       "    </tr>\n",
       "    <tr>\n",
       "      <th>55226</th>\n",
       "      <td>F</td>\n",
       "      <td>2016-05-18 14:50:41</td>\n",
       "      <td>2016-05-17</td>\n",
       "      <td>19</td>\n",
       "      <td>SANTO ANTÔNIO</td>\n",
       "      <td>0</td>\n",
       "      <td>0</td>\n",
       "      <td>0</td>\n",
       "      <td>0</td>\n",
       "      <td>1</td>\n",
       "      <td>0</td>\n",
       "      <td>Yes</td>\n",
       "      <td>-38.844722</td>\n",
       "    </tr>\n",
       "    <tr>\n",
       "      <th>64175</th>\n",
       "      <td>F</td>\n",
       "      <td>2016-05-05 13:43:58</td>\n",
       "      <td>2016-05-04</td>\n",
       "      <td>22</td>\n",
       "      <td>CONSOLAÇÃO</td>\n",
       "      <td>0</td>\n",
       "      <td>0</td>\n",
       "      <td>0</td>\n",
       "      <td>0</td>\n",
       "      <td>0</td>\n",
       "      <td>0</td>\n",
       "      <td>Yes</td>\n",
       "      <td>-37.732778</td>\n",
       "    </tr>\n",
       "    <tr>\n",
       "      <th>71533</th>\n",
       "      <td>F</td>\n",
       "      <td>2016-05-11 13:49:20</td>\n",
       "      <td>2016-05-05</td>\n",
       "      <td>81</td>\n",
       "      <td>SANTO ANTÔNIO</td>\n",
       "      <td>0</td>\n",
       "      <td>0</td>\n",
       "      <td>0</td>\n",
       "      <td>0</td>\n",
       "      <td>0</td>\n",
       "      <td>0</td>\n",
       "      <td>Yes</td>\n",
       "      <td>-157.822222</td>\n",
       "    </tr>\n",
       "    <tr>\n",
       "      <th>72362</th>\n",
       "      <td>M</td>\n",
       "      <td>2016-05-04 06:50:57</td>\n",
       "      <td>2016-05-03</td>\n",
       "      <td>7</td>\n",
       "      <td>TABUAZEIRO</td>\n",
       "      <td>0</td>\n",
       "      <td>0</td>\n",
       "      <td>0</td>\n",
       "      <td>0</td>\n",
       "      <td>0</td>\n",
       "      <td>0</td>\n",
       "      <td>Yes</td>\n",
       "      <td>-30.849167</td>\n",
       "    </tr>\n",
       "  </tbody>\n",
       "</table>\n",
       "</div>"
      ],
      "text/plain": [
       "      gender        scheduledday appointmentday  age  neighbourhood  \\\n",
       "27033      M 2016-05-10 10:51:53     2016-05-09   38    RESISTÊNCIA   \n",
       "55226      F 2016-05-18 14:50:41     2016-05-17   19  SANTO ANTÔNIO   \n",
       "64175      F 2016-05-05 13:43:58     2016-05-04   22     CONSOLAÇÃO   \n",
       "71533      F 2016-05-11 13:49:20     2016-05-05   81  SANTO ANTÔNIO   \n",
       "72362      M 2016-05-04 06:50:57     2016-05-03    7     TABUAZEIRO   \n",
       "\n",
       "       scholarship  hipertension  diabetes  alcoholism  handcap  sms_received  \\\n",
       "27033            0             0         0           0        1             0   \n",
       "55226            0             0         0           0        1             0   \n",
       "64175            0             0         0           0        0             0   \n",
       "71533            0             0         0           0        0             0   \n",
       "72362            0             0         0           0        0             0   \n",
       "\n",
       "      no_show  day_difference  \n",
       "27033     Yes      -34.864722  \n",
       "55226     Yes      -38.844722  \n",
       "64175     Yes      -37.732778  \n",
       "71533     Yes     -157.822222  \n",
       "72362     Yes      -30.849167  "
      ]
     },
     "execution_count": 61,
     "metadata": {},
     "output_type": "execute_result"
    }
   ],
   "source": [
    "# Before doing any operation of the 'day_difference' column, i checked for unreasonable values whcih is less than 24 hours\n",
    "# \"It is unreasonable for the patient to have the aoopintmentday before scheduling\"\n",
    "df[df['day_difference']<-24]"
   ]
  },
  {
   "cell_type": "markdown",
   "metadata": {},
   "source": [
    "Let us drop these values as they are not reasonabel"
   ]
  },
  {
   "cell_type": "code",
   "execution_count": 62,
   "metadata": {},
   "outputs": [],
   "source": [
    "# After finding that the number of rows are bad are only five i decided to remove them\n",
    "df.drop(df[df['day_difference']<-24].index,inplace=True)"
   ]
  },
  {
   "cell_type": "markdown",
   "metadata": {},
   "source": [
    "change the type of 'day_difference' type to integere"
   ]
  },
  {
   "cell_type": "code",
   "execution_count": 63,
   "metadata": {},
   "outputs": [],
   "source": [
    "# Change the datatype of the 'day_difference' column into integer\n",
    "df['day_difference']=df['day_difference'].astype(int)"
   ]
  },
  {
   "cell_type": "markdown",
   "metadata": {},
   "source": [
    "Check the info"
   ]
  },
  {
   "cell_type": "code",
   "execution_count": 64,
   "metadata": {},
   "outputs": [
    {
     "name": "stdout",
     "output_type": "stream",
     "text": [
      "<class 'pandas.core.frame.DataFrame'>\n",
      "Int64Index: 110521 entries, 0 to 110526\n",
      "Data columns (total 13 columns):\n",
      "gender            110521 non-null object\n",
      "scheduledday      110521 non-null datetime64[ns]\n",
      "appointmentday    110521 non-null datetime64[ns]\n",
      "age               110521 non-null int64\n",
      "neighbourhood     110521 non-null object\n",
      "scholarship       110521 non-null int64\n",
      "hipertension      110521 non-null int64\n",
      "diabetes          110521 non-null int64\n",
      "alcoholism        110521 non-null int64\n",
      "handcap           110521 non-null int64\n",
      "sms_received      110521 non-null int64\n",
      "no_show           110521 non-null object\n",
      "day_difference    110521 non-null int64\n",
      "dtypes: datetime64[ns](2), int64(8), object(3)\n",
      "memory usage: 11.8+ MB\n"
     ]
    }
   ],
   "source": [
    "# chek for the number of row after cleaning and the atatype of the columns\n",
    "df.info()"
   ]
  },
  {
   "cell_type": "markdown",
   "metadata": {},
   "source": [
    "Change negative Values in 'day_difference' to positive"
   ]
  },
  {
   "cell_type": "code",
   "execution_count": 65,
   "metadata": {},
   "outputs": [],
   "source": [
    "# change the negative values of the'day_difference' to positive values\n",
    "df['day_difference']=df['day_difference'].abs()"
   ]
  },
  {
   "cell_type": "markdown",
   "metadata": {},
   "source": [
    "Check if is there any negative values"
   ]
  },
  {
   "cell_type": "code",
   "execution_count": 66,
   "metadata": {},
   "outputs": [
    {
     "data": {
      "text/html": [
       "<div>\n",
       "<style scoped>\n",
       "    .dataframe tbody tr th:only-of-type {\n",
       "        vertical-align: middle;\n",
       "    }\n",
       "\n",
       "    .dataframe tbody tr th {\n",
       "        vertical-align: top;\n",
       "    }\n",
       "\n",
       "    .dataframe thead th {\n",
       "        text-align: right;\n",
       "    }\n",
       "</style>\n",
       "<table border=\"1\" class=\"dataframe\">\n",
       "  <thead>\n",
       "    <tr style=\"text-align: right;\">\n",
       "      <th></th>\n",
       "      <th>gender</th>\n",
       "      <th>scheduledday</th>\n",
       "      <th>appointmentday</th>\n",
       "      <th>age</th>\n",
       "      <th>neighbourhood</th>\n",
       "      <th>scholarship</th>\n",
       "      <th>hipertension</th>\n",
       "      <th>diabetes</th>\n",
       "      <th>alcoholism</th>\n",
       "      <th>handcap</th>\n",
       "      <th>sms_received</th>\n",
       "      <th>no_show</th>\n",
       "      <th>day_difference</th>\n",
       "    </tr>\n",
       "  </thead>\n",
       "  <tbody>\n",
       "  </tbody>\n",
       "</table>\n",
       "</div>"
      ],
      "text/plain": [
       "Empty DataFrame\n",
       "Columns: [gender, scheduledday, appointmentday, age, neighbourhood, scholarship, hipertension, diabetes, alcoholism, handcap, sms_received, no_show, day_difference]\n",
       "Index: []"
      ]
     },
     "execution_count": 66,
     "metadata": {},
     "output_type": "execute_result"
    }
   ],
   "source": [
    "# check if there any negative values in 'day_difference'\n",
    "df[df['day_difference']<=0]"
   ]
  },
  {
   "cell_type": "markdown",
   "metadata": {},
   "source": [
    "Divide the the rows by 24 to make it days values not hours"
   ]
  },
  {
   "cell_type": "code",
   "execution_count": 67,
   "metadata": {},
   "outputs": [],
   "source": [
    "# divide the 'day_difference' to by to 24 to make the values in days not in hors\n",
    "df['day_difference']=df['day_difference']/24"
   ]
  },
  {
   "cell_type": "markdown",
   "metadata": {},
   "source": [
    "Check the types of the data"
   ]
  },
  {
   "cell_type": "code",
   "execution_count": 68,
   "metadata": {},
   "outputs": [
    {
     "name": "stdout",
     "output_type": "stream",
     "text": [
      "<class 'pandas.core.frame.DataFrame'>\n",
      "Int64Index: 110521 entries, 0 to 110526\n",
      "Data columns (total 13 columns):\n",
      "gender            110521 non-null object\n",
      "scheduledday      110521 non-null datetime64[ns]\n",
      "appointmentday    110521 non-null datetime64[ns]\n",
      "age               110521 non-null int64\n",
      "neighbourhood     110521 non-null object\n",
      "scholarship       110521 non-null int64\n",
      "hipertension      110521 non-null int64\n",
      "diabetes          110521 non-null int64\n",
      "alcoholism        110521 non-null int64\n",
      "handcap           110521 non-null int64\n",
      "sms_received      110521 non-null int64\n",
      "no_show           110521 non-null object\n",
      "day_difference    110521 non-null float64\n",
      "dtypes: datetime64[ns](2), float64(1), int64(7), object(3)\n",
      "memory usage: 11.8+ MB\n"
     ]
    }
   ],
   "source": [
    "# check for datatypes of the columns\n",
    "df.info()"
   ]
  },
  {
   "cell_type": "markdown",
   "metadata": {},
   "source": [
    "Change the day_difference to integer"
   ]
  },
  {
   "cell_type": "code",
   "execution_count": 69,
   "metadata": {},
   "outputs": [],
   "source": [
    "# change the 'day_difference' datatype to integer\n",
    "df['day_difference']=df['day_difference'].astype(int)"
   ]
  },
  {
   "cell_type": "markdown",
   "metadata": {},
   "source": [
    "Check the values of the 'day_difference'"
   ]
  },
  {
   "cell_type": "code",
   "execution_count": 70,
   "metadata": {},
   "outputs": [
    {
     "data": {
      "text/plain": [
       "array([  0,   1,   2,   3,   8,  28,   9,  22,  10,  17,  16,  13,  27,\n",
       "        23,  20,  14,  15,  21,  42,  29,  30,  41,  31,  55,  44,  45,\n",
       "        38,  36,  37,  43,  49,  59,  51,  52,  64,  66,  90,  65,  83,\n",
       "        77,  86, 114, 108,  62,  69,  71,  56,  57,  50,  58,  40,  48,\n",
       "        72,  63,  19,  32,  33,   5,  34,  35,  11,  12,  39,  46,   7,\n",
       "         4,   6,  24,  25,  47,  26,  18,  60,  54,  61, 175,  53,  76,\n",
       "        68,  82,  75,  88,  80, 102,  78,  67,  74,  84, 111,  79,  85,\n",
       "        97,  93, 141, 154, 161, 168, 103, 132, 124,  95,  87,  89, 150,\n",
       "       125, 126, 110, 118,  73,  70,  81, 107, 109, 101, 121, 100, 104,\n",
       "        91,  96,  92, 106,  94, 138, 131, 178, 116, 145, 122])"
      ]
     },
     "execution_count": 70,
     "metadata": {},
     "output_type": "execute_result"
    }
   ],
   "source": [
    "# check for the unique values of the 'day_difference'\n",
    "df['day_difference'].unique()"
   ]
  },
  {
   "cell_type": "markdown",
   "metadata": {},
   "source": [
    "Make a new column its name is 'sched_appoint_delay' based on the 'day_difference' values"
   ]
  },
  {
   "cell_type": "code",
   "execution_count": 71,
   "metadata": {},
   "outputs": [],
   "source": [
    "# Make a new column ('sche_appoint_delay') built on the values of 'day_diffrence' \n",
    "# We make this column to see if affect the showup of the patients\n",
    "bin_edges=[0,1,3,7,14,21,30,45,60,75,90,106,121,138,150,178]\n",
    "bin_names=['0-1 day','1-3 days','within week','within 2 weeks','within 3 weeks','within month','within month and half','within 2 months','within 2 months and half','within 3 months','within 3 months and half','within 4 months','within 4 months and half','whithin 5 months','within 6 months']\n",
    "df['sched_appoint_delay']=pd.cut(df['day_difference'],bin_edges,labels=bin_names)"
   ]
  },
  {
   "cell_type": "markdown",
   "metadata": {},
   "source": [
    "<a id='eda'></a>\n",
    "## Exploratory Data Analysis\n",
    "\n",
    "### Research Question 1 (Does the gender affect the show up ?)"
   ]
  },
  {
   "cell_type": "markdown",
   "metadata": {},
   "source": [
    "### First of all\n",
    "#### Let us make mask and query of pateint who showed and which not"
   ]
  },
  {
   "cell_type": "code",
   "execution_count": 72,
   "metadata": {},
   "outputs": [],
   "source": [
    "# Mask the data into 'show' and 'non_show' to be able to analyze it and see what affect patinets to showup in appointmentday\n",
    "show=df.no_show=='No'\n",
    "non_show=df.no_show=='Yes'\n",
    "df_show=df.query('no_show==\"No\"')\n",
    "df_no_show=df.query('no_show==\"Yes\"')"
   ]
  },
  {
   "cell_type": "markdown",
   "metadata": {},
   "source": [
    "First Check which gender is more in the samples"
   ]
  },
  {
   "cell_type": "code",
   "execution_count": 73,
   "metadata": {},
   "outputs": [
    {
     "data": {
      "image/png": "[encoded data removed]",
      "text/plain": [
       "<matplotlib.figure.Figure at 0x7fe53d44f0b8>"
      ]
     },
     "metadata": {},
     "output_type": "display_data"
    }
   ],
   "source": [
    "# First of all see the genders number differnece who are more males or females\n",
    "gender=df.gender.value_counts()\n",
    "plt.pie(gender,labels=['Female','Male'],rotatelabels=True)\n",
    "plt.legend()\n",
    "plt.show()"
   ]
  },
  {
   "cell_type": "markdown",
   "metadata": {},
   "source": [
    ">It is obvious that the female are more than males by two thirds\n",
    ">\n",
    ">Now let us check which gender is more likely to showup"
   ]
  },
  {
   "cell_type": "code",
   "execution_count": 74,
   "metadata": {},
   "outputs": [
    {
     "data": {
      "image/png": "[encoded data removed]",
      "text/plain": [
       "<matplotlib.figure.Figure at 0x7fe53cecf6a0>"
      ]
     },
     "metadata": {},
     "output_type": "display_data"
    }
   ],
   "source": [
    "# second see the genders number differnece who are more to show males or females\n",
    "gender_effect=df.gender[show].value_counts()\n",
    "plt.pie(gender_effect,labels=['Female','Male'],rotatelabels=True)\n",
    "plt.legend()\n",
    "plt.show()"
   ]
  },
  {
   "cell_type": "markdown",
   "metadata": {},
   "source": [
    "#### It is clear that the gender does not affect the show up as the females are more than males in the general sample and in the showup mask"
   ]
  },
  {
   "cell_type": "markdown",
   "metadata": {},
   "source": [
    "### Research Question 2  (Does the scholarship affect patient to show up)"
   ]
  },
  {
   "cell_type": "markdown",
   "metadata": {},
   "source": [
    "### First making a function to plot a pie, to not repeat a code"
   ]
  },
  {
   "cell_type": "code",
   "execution_count": 75,
   "metadata": {},
   "outputs": [],
   "source": [
    "def display_pie(var,label):\n",
    "    plt.pie(var,labels=['not {}'.format(label),'{}'.format(label)],autopct='%1.1f%%')\n",
    "    plt.legend()\n",
    "    return plt.show()"
   ]
  },
  {
   "cell_type": "code",
   "execution_count": 76,
   "metadata": {},
   "outputs": [
    {
     "data": {
      "image/png": "[encoded data removed]",
      "text/plain": [
       "<matplotlib.figure.Figure at 0x7fe537cc6eb8>"
      ]
     },
     "metadata": {},
     "output_type": "display_data"
    }
   ],
   "source": [
    "# Check which have more numbers are pateints who have scholarship or patients who don't\n",
    "scholar=df.scholarship.value_counts()\n",
    "display_pie(scholar,'scholarship')"
   ]
  },
  {
   "cell_type": "markdown",
   "metadata": {},
   "source": [
    ">It is clear that from the sample that there is more people do not have scholarship\n",
    ">\n",
    ">Now let's see who will more likely to showup"
   ]
  },
  {
   "cell_type": "code",
   "execution_count": 77,
   "metadata": {},
   "outputs": [
    {
     "data": {
      "image/png": "[encoded data removed]",
      "text/plain": [
       "<matplotlib.figure.Figure at 0x7fe539b5e358>"
      ]
     },
     "metadata": {},
     "output_type": "display_data"
    }
   ],
   "source": [
    "# check which number of patinets are more likely to show who have scholarship or who don't\n",
    "scholar_effect=df.scholarship[show].value_counts()\n",
    "display_pie(scholar_effect,'scholar_show')"
   ]
  },
  {
   "cell_type": "markdown",
   "metadata": {},
   "source": [
    "#### It is clear that the scholarship does not affect the show up \n",
    "### Research Question 3  (Does the alcoholism affect patient to show up)"
   ]
  },
  {
   "cell_type": "code",
   "execution_count": 78,
   "metadata": {},
   "outputs": [
    {
     "data": {
      "image/png": "[encoded data removed]",
      "text/plain": [
       "<matplotlib.figure.Figure at 0x7fe539beec50>"
      ]
     },
     "metadata": {},
     "output_type": "display_data"
    }
   ],
   "source": [
    "# Check which number of patinets who are alcohlims and who are not alcoholism\n",
    "alcoholism=df.alcoholism.value_counts()\n",
    "display_pie(alcoholism,'alcoholism')"
   ]
  },
  {
   "cell_type": "markdown",
   "metadata": {},
   "source": [
    "It is clear that the non alcoholism is more than the alcoholism"
   ]
  },
  {
   "cell_type": "code",
   "execution_count": 79,
   "metadata": {},
   "outputs": [
    {
     "data": {
      "image/png": "[encoded data removed]",
      "text/plain": [
       "<matplotlib.figure.Figure at 0x7fe539b84d68>"
      ]
     },
     "metadata": {},
     "output_type": "display_data"
    }
   ],
   "source": [
    "# Check for the number of patients are more likely to show the alcoholism or not alcoholism\n",
    "alcoholism_show=df.alcoholism[show].value_counts()\n",
    "display_pie(alcoholism_show,'alcoholism_show')"
   ]
  },
  {
   "cell_type": "markdown",
   "metadata": {},
   "source": [
    "#### It is clear that the alcoholism does not affect the show up \n",
    "### Research Question 4  (Does the hipertension affect patient to show up)"
   ]
  },
  {
   "cell_type": "code",
   "execution_count": 80,
   "metadata": {},
   "outputs": [
    {
     "data": {
      "image/png": "[encoded data removed]",
      "text/plain": [
       "<matplotlib.figure.Figure at 0x7fe539b165f8>"
      ]
     },
     "metadata": {},
     "output_type": "display_data"
    },
    {
     "data": {
      "image/png": "[encoded data removed]",
      "text/plain": [
       "<matplotlib.figure.Figure at 0x7fe539c2ce10>"
      ]
     },
     "metadata": {},
     "output_type": "display_data"
    }
   ],
   "source": [
    "# Compare betweent the hipertension patents who showeup and the total patients who suffer from hipertension\n",
    "hipertension=df.hipertension.value_counts()\n",
    "display_pie(hipertension,'hipertension')\n",
    "hipertension_show=df.hipertension[show].value_counts()\n",
    "display_pie(hipertension_show,'hipertension_show')"
   ]
  },
  {
   "cell_type": "markdown",
   "metadata": {},
   "source": [
    "#### It is clear that the hipertension does not affect the show up \n",
    "### Research Question 5  (Does the diabetes affect patient to show up)"
   ]
  },
  {
   "cell_type": "code",
   "execution_count": 81,
   "metadata": {},
   "outputs": [
    {
     "data": {
      "image/png": "[encoded data removed]",
      "text/plain": [
       "<matplotlib.figure.Figure at 0x7fe539db3630>"
      ]
     },
     "metadata": {},
     "output_type": "display_data"
    },
    {
     "data": {
      "image/png": "[encoded data removed]",
      "text/plain": [
       "<matplotlib.figure.Figure at 0x7fe53a0b7f98>"
      ]
     },
     "metadata": {},
     "output_type": "display_data"
    }
   ],
   "source": [
    "# Compare betweent the diabetic patents who showeup and the total patients who suffer from diabetes\n",
    "diabetes=df.diabetes.value_counts()\n",
    "display_pie(diabetes,'diabetes')\n",
    "diabetes_show=df.diabetes[show].value_counts()\n",
    "display_pie(diabetes_show,'scholar_show')"
   ]
  },
  {
   "cell_type": "markdown",
   "metadata": {},
   "source": [
    "#### From the comparison between the two pies , it is obvious that diabetes doesnot affect the showup of patients\n",
    "### Research Question 6  (Does the handcap affect patient to show up )"
   ]
  },
  {
   "cell_type": "code",
   "execution_count": 82,
   "metadata": {},
   "outputs": [
    {
     "data": {
      "image/png": "[encoded data removed]",
      "text/plain": [
       "<matplotlib.figure.Figure at 0x7fe539cb3470>"
      ]
     },
     "metadata": {},
     "output_type": "display_data"
    },
    {
     "data": {
      "image/png": "[encoded data removed]",
      "text/plain": [
       "<matplotlib.figure.Figure at 0x7fe53d44f978>"
      ]
     },
     "metadata": {},
     "output_type": "display_data"
    }
   ],
   "source": [
    "# Compare between the handcap patients who showup and the total patients who suffer from handcap\n",
    "handcap=df.handcap.value_counts()\n",
    "display_pie(handcap,'handcap')\n",
    "handcap_show=df.diabetes[show].value_counts()\n",
    "display_pie(handcap_show,'handcap_show')"
   ]
  },
  {
   "cell_type": "markdown",
   "metadata": {},
   "source": [
    "#### From the comparison between the two pies , it is obvious that handcap doesnot affect the showup of patients\n",
    "### Research Question 7  (Does whether sms_recieved affect patient to show up)"
   ]
  },
  {
   "cell_type": "code",
   "execution_count": 83,
   "metadata": {},
   "outputs": [
    {
     "data": {
      "image/png": "[encoded data removed]",
      "text/plain": [
       "<matplotlib.figure.Figure at 0x7fe539d9a710>"
      ]
     },
     "metadata": {},
     "output_type": "display_data"
    },
    {
     "data": {
      "image/png": "[encoded data removed]",
      "text/plain": [
       "<matplotlib.figure.Figure at 0x7fe539d5b3c8>"
      ]
     },
     "metadata": {},
     "output_type": "display_data"
    }
   ],
   "source": [
    "# Compare betweent the sms_receieved patients who showup and the total patients who recieved sms\n",
    "received=df.sms_received.value_counts()\n",
    "display_pie(received,'sms_received')\n",
    "received_show=df.sms_received[show].value_counts()\n",
    "display_pie(received_show,'sms_received_show')"
   ]
  },
  {
   "cell_type": "markdown",
   "metadata": {},
   "source": [
    "#### From the comparison between the two pies , it is obvious that receiving sms message doesnot affect the showup of patients\n",
    "### Research Question 8 (Does the delay between the scheduledday and appointmentday affect patient to    showup)"
   ]
  },
  {
   "cell_type": "code",
   "execution_count": 84,
   "metadata": {},
   "outputs": [
    {
     "data": {
      "text/plain": [
       "within week                 14552\n",
       "within 2 weeks              11196\n",
       "within 3 weeks               8544\n",
       "1-3 days                     8027\n",
       "within month                 7996\n",
       "0-1 day                      6725\n",
       "within month and half        5954\n",
       "within 2 months              1792\n",
       "within 2 months and half     1393\n",
       "within 3 months               406\n",
       "within 6 months                55\n",
       "within 3 months and half       47\n",
       "within 4 months                32\n",
       "within 4 months and half       17\n",
       "whithin 5 months               10\n",
       "Name: sched_appoint_delay, dtype: int64"
      ]
     },
     "execution_count": 84,
     "metadata": {},
     "output_type": "execute_result"
    }
   ],
   "source": [
    "# check for common the delay between the schedledday and appointmentday\n",
    "sched=df.sched_appoint_delay.value_counts()\n",
    "sched"
   ]
  },
  {
   "cell_type": "code",
   "execution_count": 85,
   "metadata": {},
   "outputs": [
    {
     "data": {
      "text/plain": [
       "within week                 10700\n",
       "within 2 weeks               7700\n",
       "1-3 days                     6152\n",
       "within 3 weeks               5781\n",
       "within month                 5380\n",
       "0-1 day                      5123\n",
       "within month and half        3889\n",
       "within 2 months              1217\n",
       "within 2 months and half      989\n",
       "within 3 months               289\n",
       "within 6 months                38\n",
       "within 3 months and half       34\n",
       "within 4 months                30\n",
       "within 4 months and half       10\n",
       "whithin 5 months                5\n",
       "Name: sched_appoint_delay, dtype: int64"
      ]
     },
     "execution_count": 85,
     "metadata": {},
     "output_type": "execute_result"
    }
   ],
   "source": [
    "# check for common the delay between the schedledday and appointmentday between the patients who showup\n",
    "sched_show=df.sched_appoint_delay[show].value_counts()\n",
    "sched_show"
   ]
  },
  {
   "cell_type": "markdown",
   "metadata": {},
   "source": [
    "#### It is obvious that the delay between the schedledday and appointmentday is almost the same between the total number of the patinets and the patinets who showup"
   ]
  },
  {
   "cell_type": "code",
   "execution_count": 86,
   "metadata": {},
   "outputs": [],
   "source": [
    "# Using these lines to relad the matplotlib as the library didn't work normally\n",
    "import matplotlib.pyplot as plt\n",
    "from importlib import reload\n",
    "plt=reload(plt)"
   ]
  },
  {
   "cell_type": "code",
   "execution_count": 87,
   "metadata": {},
   "outputs": [
    {
     "data": {
      "image/png": "[encoded data removed]",
      "text/plain": [
       "<matplotlib.figure.Figure at 0x7fe539e06080>"
      ]
     },
     "metadata": {
      "needs_background": "light"
     },
     "output_type": "display_data"
    }
   ],
   "source": [
    "# Here we decided to use the graph to show the common delay between the schedday and appointday\n",
    "# on the total number of patinets\n",
    "sched_bar=plt.bar(np.arange(len(sched)),sched,label=('Sched_appoint_delay'),alpha=0.7,color=['red','yellow','blue','black','green','brown'],tick_label=['within weeks','within 2 weeks','within 3 weeks','1-3 days','within month','0-1 day','within month and half','within 2 months','witin 2 months and half','within 3 months','within 6 months','within 3 months and half','within 4 months',' within 4 months and half','wihtin 5 months'])\n",
    "plt.xticks(rotation=90)\n",
    "plt.title('Comparison between the schedeledday appointmentday delay and the total patients numbers')\n",
    "plt.xlabel('The delay between the scheduledday and appointmentday')\n",
    "plt.ylabel('The number of pateints')\n",
    "plt.show()"
   ]
  },
  {
   "cell_type": "code",
   "execution_count": 88,
   "metadata": {},
   "outputs": [
    {
     "data": {
      "image/png": "[encoded data removed]",
      "text/plain": [
       "<matplotlib.figure.Figure at 0x7fe53a096208>"
      ]
     },
     "metadata": {
      "needs_background": "light"
     },
     "output_type": "display_data"
    }
   ],
   "source": [
    "# Here we decided to use the graph to show the common delay between the schedday and appointday\n",
    "# on the patinets who showup\n",
    "plt.bar(np.arange(len(sched_show)),sched_show,label=('Sched_appoint_delay'),alpha=0.7,color=['red','yellow','blue','black','green','brown'],tick_label=['within week','within 2 weeks','1-3 days','within 3 weeks','within month','0-1 day','within month and half','within 2 months','witin 2 months and half','within 3 months','within 6 months','within 3 months and half','within 4 months',' within 4 months and half','wihtin 5 months'])\n",
    "plt.xticks(rotation=90)\n",
    "plt.title('Comparison between the schedeledday appointmentday delay and the patients numbers showedup')\n",
    "plt.xlabel('The delay between the scheduledday and appointmentday')\n",
    "plt.ylabel('The number of pateints showedup')\n",
    "plt.show()"
   ]
  },
  {
   "cell_type": "markdown",
   "metadata": {},
   "source": [
    "#### From the comparison between the two bar charts , it is obvious that the delay between the sheduledday and appointmentday doesnot affect the showup of patients\n",
    "#### Most of the patient make the appointment ('within week', 'within 2 weeks', 'within 3 weeks', 'within month','0-1 day' , '1-3 days', 'within month and half') after the scheduling\n",
    "#### It is the same thing with patient that show make the appointment after the scheduling day within the same ranges\n",
    "### Research Question 9  (Is there a neighbourhood where more patients show up)"
   ]
  },
  {
   "cell_type": "code",
   "execution_count": 89,
   "metadata": {},
   "outputs": [
    {
     "data": {
      "text/plain": [
       "JARDIM CAMBURI       7717\n",
       "MARIA ORTIZ          5805\n",
       "RESISTÊNCIA          4430\n",
       "JARDIM DA PENHA      3877\n",
       "ITARARÉ              3514\n",
       "CENTRO               3334\n",
       "TABUAZEIRO           3131\n",
       "SANTA MARTHA         3131\n",
       "JESUS DE NAZARETH    2853\n",
       "BONFIM               2773\n",
       "SANTO ANTÔNIO        2744\n",
       "SANTO ANDRÉ          2571\n",
       "CARATOÍRA            2565\n",
       "JABOUR               2509\n",
       "SÃO PEDRO            2448\n",
       "ILHA DO PRÍNCIPE     2266\n",
       "NOVA PALESTINA       2264\n",
       "ANDORINHAS           2262\n",
       "DA PENHA             2217\n",
       "ROMÃO                2214\n",
       "Name: neighbourhood, dtype: int64"
      ]
     },
     "execution_count": 89,
     "metadata": {},
     "output_type": "execute_result"
    }
   ],
   "source": [
    "# The 20 negbourhood who has the most number of patients\n",
    "df.neighbourhood.value_counts().nlargest(20)"
   ]
  },
  {
   "cell_type": "code",
   "execution_count": 90,
   "metadata": {},
   "outputs": [
    {
     "data": {
      "text/plain": [
       "JARDIM CAMBURI       6252\n",
       "MARIA ORTIZ          4586\n",
       "RESISTÊNCIA          3525\n",
       "JARDIM DA PENHA      3246\n",
       "SANTA MARTHA         2635\n",
       "CENTRO               2631\n",
       "ITARARÉ              2591\n",
       "TABUAZEIRO           2559\n",
       "SANTO ANTÔNIO        2262\n",
       "BONFIM               2223\n",
       "JESUS DE NAZARETH    2157\n",
       "SANTO ANDRÉ          2063\n",
       "JABOUR               2058\n",
       "CARATOÍRA            1974\n",
       "SÃO PEDRO            1933\n",
       "NOVA PALESTINA       1862\n",
       "DA PENHA             1788\n",
       "ANDORINHAS           1741\n",
       "ROMÃO                1740\n",
       "ILHA DO PRÍNCIPE     1734\n",
       "Name: neighbourhood, dtype: int64"
      ]
     },
     "execution_count": 90,
     "metadata": {},
     "output_type": "execute_result"
    }
   ],
   "source": [
    "# The 20 negbourhood who has the most number of patients showup\n",
    "df.neighbourhood[show].value_counts().nlargest(20)"
   ]
  },
  {
   "cell_type": "markdown",
   "metadata": {},
   "source": [
    "#### The top 20 neighbours which has the highest number of paitents , are almost the same top 20 neighbours which has the highest number of paitents who showup"
   ]
  },
  {
   "cell_type": "markdown",
   "metadata": {},
   "source": [
    "### Research Question 10  (What is the ages that are more likely to show up )"
   ]
  },
  {
   "cell_type": "code",
   "execution_count": 91,
   "metadata": {},
   "outputs": [
    {
     "data": {
      "text/plain": [
       "0     3539\n",
       "1     2273\n",
       "52    1746\n",
       "49    1652\n",
       "53    1651\n",
       "56    1635\n",
       "38    1628\n",
       "59    1624\n",
       "2     1618\n",
       "50    1613\n",
       "Name: age, dtype: int64"
      ]
     },
     "execution_count": 91,
     "metadata": {},
     "output_type": "execute_result"
    }
   ],
   "source": [
    "# show the top 10 ages of patients\n",
    "df.age.value_counts().nlargest(10)"
   ]
  },
  {
   "cell_type": "code",
   "execution_count": 92,
   "metadata": {},
   "outputs": [
    {
     "data": {
      "text/plain": [
       "0     2900\n",
       "1     1858\n",
       "52    1449\n",
       "56    1372\n",
       "2     1366\n",
       "59    1357\n",
       "49    1354\n",
       "53    1332\n",
       "57    1325\n",
       "50    1322\n",
       "Name: age, dtype: int64"
      ]
     },
     "execution_count": 92,
     "metadata": {},
     "output_type": "execute_result"
    }
   ],
   "source": [
    "# show the top 10 ages of patients who showup\n",
    "df.age[show].value_counts().nlargest(10)"
   ]
  },
  {
   "cell_type": "code",
   "execution_count": 93,
   "metadata": {},
   "outputs": [
    {
     "name": "stdout",
     "output_type": "stream",
     "text": [
      "The average age of the total number of patients37.08938572759928\n",
      "The average age of patients showup37.790504154999034\n",
      "The average age of patients didn't showup34.31787218786412\n"
     ]
    }
   ],
   "source": [
    "# Here we decided to express the mean age of the total patients, patients showup and patients not\n",
    "x1=df.age.mean()\n",
    "x2=df.age[show].mean()\n",
    "x3=df.age[non_show].mean()\n",
    "print('The average age of the total number of patients{}'.format(x1))\n",
    "print('The average age of patients showup{}'.format(x2))\n",
    "print('The average age of patients didn\\'t showup{}'.format(x3))"
   ]
  },
  {
   "cell_type": "code",
   "execution_count": 94,
   "metadata": {},
   "outputs": [
    {
     "data": {
      "text/plain": [
       "count    110521.000000\n",
       "mean         37.089386\n",
       "std          23.109885\n",
       "min           0.000000\n",
       "25%          18.000000\n",
       "50%          37.000000\n",
       "75%          55.000000\n",
       "max         115.000000\n",
       "Name: age, dtype: float64"
      ]
     },
     "execution_count": 94,
     "metadata": {},
     "output_type": "execute_result"
    }
   ],
   "source": [
    "# Check fo the average, min, max and iterquartile ages of the patients\n",
    "df.age.describe()"
   ]
  },
  {
   "cell_type": "code",
   "execution_count": 95,
   "metadata": {},
   "outputs": [
    {
     "data": {
      "text/plain": [
       "<matplotlib.legend.Legend at 0x7fe539abf4a8>"
      ]
     },
     "execution_count": 95,
     "metadata": {},
     "output_type": "execute_result"
    },
    {
     "data": {
      "image/png": "[encoded data removed]",
      "text/plain": [
       "<matplotlib.figure.Figure at 0x7fe539c68dd8>"
      ]
     },
     "metadata": {
      "needs_background": "light"
     },
     "output_type": "display_data"
    }
   ],
   "source": [
    "# Histogram of ages of all the patients that participat in the sudy combined with histogram of ages\n",
    "# of patients showup and patietns who didn't show\n",
    "plt.hist(df.age,alpha=0.7,label=('The age distribution of all patients'))\n",
    "plt.hist(df.age[show],alpha=0.7,label='The age distribution of showup patients')\n",
    "plt.hist(df.age[non_show],alpha=0.7,label=('The age distribution of nonshow patients'))\n",
    "plt.title('Compare between number of patients and the patinet ages')\n",
    "plt.xlabel('The age of the patients')\n",
    "plt.ylabel('The number of patients')\n",
    "plt.legend()"
   ]
  },
  {
   "cell_type": "markdown",
   "metadata": {},
   "source": [
    "#### From the number the average age of all the patients is 37, the average age of patents who show up is also 37 and the average age nonshow patients is 34 \n",
    "#### The histogram variate with the same rate in the all patients, showup patients and nonshow patients \n",
    "#### That is mean that the age of the patients doesnot affect the show of the patients"
   ]
  },
  {
   "cell_type": "markdown",
   "metadata": {},
   "source": [
    "## Q11\n",
    "### Compare between gender with age mean and patients that showd or not"
   ]
  },
  {
   "cell_type": "code",
   "execution_count": 96,
   "metadata": {},
   "outputs": [
    {
     "data": {
      "text/html": [
       "<div>\n",
       "<style scoped>\n",
       "    .dataframe tbody tr th:only-of-type {\n",
       "        vertical-align: middle;\n",
       "    }\n",
       "\n",
       "    .dataframe tbody tr th {\n",
       "        vertical-align: top;\n",
       "    }\n",
       "\n",
       "    .dataframe thead th {\n",
       "        text-align: right;\n",
       "    }\n",
       "</style>\n",
       "<table border=\"1\" class=\"dataframe\">\n",
       "  <thead>\n",
       "    <tr style=\"text-align: right;\">\n",
       "      <th></th>\n",
       "      <th>count</th>\n",
       "      <th>mean</th>\n",
       "      <th>std</th>\n",
       "      <th>min</th>\n",
       "      <th>25%</th>\n",
       "      <th>50%</th>\n",
       "      <th>75%</th>\n",
       "      <th>max</th>\n",
       "    </tr>\n",
       "    <tr>\n",
       "      <th>gender</th>\n",
       "      <th></th>\n",
       "      <th></th>\n",
       "      <th></th>\n",
       "      <th></th>\n",
       "      <th></th>\n",
       "      <th></th>\n",
       "      <th></th>\n",
       "      <th></th>\n",
       "    </tr>\n",
       "  </thead>\n",
       "  <tbody>\n",
       "    <tr>\n",
       "      <th>F</th>\n",
       "      <td>57245.0</td>\n",
       "      <td>39.591126</td>\n",
       "      <td>22.342413</td>\n",
       "      <td>0.0</td>\n",
       "      <td>22.0</td>\n",
       "      <td>40.0</td>\n",
       "      <td>57.0</td>\n",
       "      <td>115.0</td>\n",
       "    </tr>\n",
       "    <tr>\n",
       "      <th>M</th>\n",
       "      <td>30962.0</td>\n",
       "      <td>34.461372</td>\n",
       "      <td>24.734056</td>\n",
       "      <td>0.0</td>\n",
       "      <td>10.0</td>\n",
       "      <td>34.0</td>\n",
       "      <td>55.0</td>\n",
       "      <td>100.0</td>\n",
       "    </tr>\n",
       "  </tbody>\n",
       "</table>\n",
       "</div>"
      ],
      "text/plain": [
       "          count       mean        std  min   25%   50%   75%    max\n",
       "gender                                                             \n",
       "F       57245.0  39.591126  22.342413  0.0  22.0  40.0  57.0  115.0\n",
       "M       30962.0  34.461372  24.734056  0.0  10.0  34.0  55.0  100.0"
      ]
     },
     "execution_count": 96,
     "metadata": {},
     "output_type": "execute_result"
    }
   ],
   "source": [
    "# Grouping the show patients by gender and describe their age\n",
    "df_show.groupby('gender')['age'].describe()"
   ]
  },
  {
   "cell_type": "code",
   "execution_count": 97,
   "metadata": {},
   "outputs": [
    {
     "data": {
      "text/html": [
       "<div>\n",
       "<style scoped>\n",
       "    .dataframe tbody tr th:only-of-type {\n",
       "        vertical-align: middle;\n",
       "    }\n",
       "\n",
       "    .dataframe tbody tr th {\n",
       "        vertical-align: top;\n",
       "    }\n",
       "\n",
       "    .dataframe thead th {\n",
       "        text-align: right;\n",
       "    }\n",
       "</style>\n",
       "<table border=\"1\" class=\"dataframe\">\n",
       "  <thead>\n",
       "    <tr style=\"text-align: right;\">\n",
       "      <th></th>\n",
       "      <th>count</th>\n",
       "      <th>mean</th>\n",
       "      <th>std</th>\n",
       "      <th>min</th>\n",
       "      <th>25%</th>\n",
       "      <th>50%</th>\n",
       "      <th>75%</th>\n",
       "      <th>max</th>\n",
       "    </tr>\n",
       "    <tr>\n",
       "      <th>gender</th>\n",
       "      <th></th>\n",
       "      <th></th>\n",
       "      <th></th>\n",
       "      <th></th>\n",
       "      <th></th>\n",
       "      <th></th>\n",
       "      <th></th>\n",
       "      <th></th>\n",
       "    </tr>\n",
       "  </thead>\n",
       "  <tbody>\n",
       "    <tr>\n",
       "      <th>F</th>\n",
       "      <td>14591.0</td>\n",
       "      <td>36.161264</td>\n",
       "      <td>21.182334</td>\n",
       "      <td>0.0</td>\n",
       "      <td>20.0</td>\n",
       "      <td>34.0</td>\n",
       "      <td>52.0</td>\n",
       "      <td>115.0</td>\n",
       "    </tr>\n",
       "    <tr>\n",
       "      <th>M</th>\n",
       "      <td>7723.0</td>\n",
       "      <td>30.835168</td>\n",
       "      <td>22.973429</td>\n",
       "      <td>0.0</td>\n",
       "      <td>10.0</td>\n",
       "      <td>28.0</td>\n",
       "      <td>49.0</td>\n",
       "      <td>97.0</td>\n",
       "    </tr>\n",
       "  </tbody>\n",
       "</table>\n",
       "</div>"
      ],
      "text/plain": [
       "          count       mean        std  min   25%   50%   75%    max\n",
       "gender                                                             \n",
       "F       14591.0  36.161264  21.182334  0.0  20.0  34.0  52.0  115.0\n",
       "M        7723.0  30.835168  22.973429  0.0  10.0  28.0  49.0   97.0"
      ]
     },
     "execution_count": 97,
     "metadata": {},
     "output_type": "execute_result"
    }
   ],
   "source": [
    "# Grouping the nonshow patients by gender and describe their age\n",
    "df_no_show.groupby('gender')['age'].describe()"
   ]
  },
  {
   "cell_type": "markdown",
   "metadata": {},
   "source": [
    "#### The interquartiles of ages in the patients that showed are more by (2-6 years) of the patitns that didnot show in both genders \n",
    "#### From the describtion of the age in both genders pateints who showup and who didn't show, the numbers tell that the age is almost the same in both genders patietns who showup and who didn't show"
   ]
  },
  {
   "cell_type": "markdown",
   "metadata": {},
   "source": [
    "## Q12\n",
    "###  Compare between gender with (handcap,alcoholism, and diabetes) mean and patients that showd or not"
   ]
  },
  {
   "cell_type": "code",
   "execution_count": 98,
   "metadata": {},
   "outputs": [
    {
     "data": {
      "text/plain": [
       "<matplotlib.axes._subplots.AxesSubplot at 0x7fe542cf0400>"
      ]
     },
     "execution_count": 98,
     "metadata": {},
     "output_type": "execute_result"
    },
    {
     "data": {
      "image/png": "[encoded data removed]",
      "text/plain": [
       "<matplotlib.figure.Figure at 0x7fe539b62eb8>"
      ]
     },
     "metadata": {},
     "output_type": "display_data"
    }
   ],
   "source": [
    "## Grouping the show patients by gender and count the handcap among them\n",
    "df_show.groupby('gender')['handcap'].value_counts().plot(kind='pie')"
   ]
  },
  {
   "cell_type": "code",
   "execution_count": 99,
   "metadata": {},
   "outputs": [
    {
     "data": {
      "text/plain": [
       "<matplotlib.axes._subplots.AxesSubplot at 0x7fe539b959b0>"
      ]
     },
     "execution_count": 99,
     "metadata": {},
     "output_type": "execute_result"
    },
    {
     "data": {
      "image/png": "[encoded data removed]",
      "text/plain": [
       "<matplotlib.figure.Figure at 0x7fe539d18588>"
      ]
     },
     "metadata": {},
     "output_type": "display_data"
    }
   ],
   "source": [
    "## Grouping the non_show patients by gender and count the handcap among them\n",
    "df_no_show.groupby('gender')['handcap'].value_counts().plot(kind='pie')"
   ]
  },
  {
   "cell_type": "code",
   "execution_count": 100,
   "metadata": {},
   "outputs": [
    {
     "data": {
      "text/plain": [
       "<matplotlib.axes._subplots.AxesSubplot at 0x7fe539bbbc50>"
      ]
     },
     "execution_count": 100,
     "metadata": {},
     "output_type": "execute_result"
    },
    {
     "data": {
      "image/png": "[encoded data removed]",
      "text/plain": [
       "<matplotlib.figure.Figure at 0x7fe539be64a8>"
      ]
     },
     "metadata": {},
     "output_type": "display_data"
    }
   ],
   "source": [
    "## Grouping the show patients by gender and count the alcoholism among them\n",
    "df_show.groupby('gender')['alcoholism'].value_counts().plot(kind='pie')"
   ]
  },
  {
   "cell_type": "code",
   "execution_count": 101,
   "metadata": {},
   "outputs": [
    {
     "data": {
      "text/plain": [
       "<matplotlib.axes._subplots.AxesSubplot at 0x7fe539e81668>"
      ]
     },
     "execution_count": 101,
     "metadata": {},
     "output_type": "execute_result"
    },
    {
     "data": {
      "image/png": "[encoded data removed]",
      "text/plain": [
       "<matplotlib.figure.Figure at 0x7fe539c1b198>"
      ]
     },
     "metadata": {},
     "output_type": "display_data"
    }
   ],
   "source": [
    "## Grouping the non_show patients by gender and count the alcoholism among them\n",
    "df_no_show.groupby('gender')['alcoholism'].value_counts().plot(kind='pie')"
   ]
  },
  {
   "cell_type": "code",
   "execution_count": 102,
   "metadata": {},
   "outputs": [
    {
     "data": {
      "text/plain": [
       "<matplotlib.axes._subplots.AxesSubplot at 0x7fe539a76be0>"
      ]
     },
     "execution_count": 102,
     "metadata": {},
     "output_type": "execute_result"
    },
    {
     "data": {
      "image/png": "[encoded data removed]",
      "text/plain": [
       "<matplotlib.figure.Figure at 0x7fe539dc6b38>"
      ]
     },
     "metadata": {},
     "output_type": "display_data"
    }
   ],
   "source": [
    "## Grouping the show patients by gender and count the diabetic among them\n",
    "df_show.groupby('gender')['diabetes'].value_counts().plot(kind='pie')"
   ]
  },
  {
   "cell_type": "code",
   "execution_count": 103,
   "metadata": {},
   "outputs": [
    {
     "data": {
      "text/plain": [
       "<matplotlib.axes._subplots.AxesSubplot at 0x7fe53d42e780>"
      ]
     },
     "execution_count": 103,
     "metadata": {},
     "output_type": "execute_result"
    },
    {
     "data": {
      "image/png": "[encoded data removed]",
      "text/plain": [
       "<matplotlib.figure.Figure at 0x7fe53a09e6a0>"
      ]
     },
     "metadata": {},
     "output_type": "display_data"
    }
   ],
   "source": [
    "## Grouping the non_show patients by gender and count the handcap among them\n",
    "df_no_show.groupby('gender')['diabetes'].value_counts().plot(kind='pie')"
   ]
  },
  {
   "cell_type": "markdown",
   "metadata": {},
   "source": [
    "#### I have grouped the showup patients and non_show by gender and the chronic deiseases 'hipertension', 'diabetes','handcap', and 'alcoholism')\n",
    "#### Ifound out that there is no relation between gender, chronic diseases and patients that showup or not "
   ]
  },
  {
   "cell_type": "markdown",
   "metadata": {},
   "source": [
    "<a id='conclusions'></a>\n",
    "## Conclusions\n",
    "After answering the questions that i asked in the introduction i came up with a conclusion that, there is no affect from the data given like (\"sms_received:\",\"handcap\", \"alcoholism\", \"diabetes\", \"hipertension\", \"scholarship\" , \"neghbourhood\", \"age\") on the showup , as all the results of show up patinets are almost the same like the non_show patients and also like the all patinets data.\n",
    "## Limitatins\n",
    ">I have reached a conclusion that non of the data provided is enough to show why smoe people attend the appointment and some peopple not\n",
    ">\n",
    ">I think the problem is because most of the sample is from females which make it a littlebit harder to distinguish between gender\n",
    ">\n",
    "> May be the sample is too small so that there is no enogh data the we could come from it with results\n",
    ">\n",
    "> I recommend that we ask help of expertise in health and also we could gather more various data"
   ]
  },
  {
   "cell_type": "code",
   "execution_count": 104,
   "metadata": {},
   "outputs": [
    {
     "data": {
      "text/plain": [
       "0"
      ]
     },
     "execution_count": 104,
     "metadata": {},
     "output_type": "execute_result"
    }
   ],
   "source": [
    "from subprocess import call\n",
    "call(['python', '-m', 'nbconvert', 'Investigate_a_Dataset.ipynb'])"
   ]
  },
  {
   "cell_type": "code",
   "execution_count": null,
   "metadata": {},
   "outputs": [],
   "source": []
  }
 ],
 "metadata": {
  "kernelspec": {
   "display_name": "Python 3",
   "language": "python",
   "name": "python3"
  },
  "language_info": {
   "codemirror_mode": {
    "name": "ipython",
    "version": 3
   },
   "file_extension": ".py",
   "mimetype": "text/x-python",
   "name": "python",
   "nbconvert_exporter": "python",
   "pygments_lexer": "ipython3",
   "version": "3.6.3"
  }
 },
 "nbformat": 4,
 "nbformat_minor": 2
}
